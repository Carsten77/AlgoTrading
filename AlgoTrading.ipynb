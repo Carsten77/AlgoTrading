{
  "nbformat": 4,
  "nbformat_minor": 0,
  "metadata": {
    "colab": {
      "name": "AlgoTrading.ipynb",
      "version": "0.3.2",
      "provenance": [],
      "collapsed_sections": [],
      "toc_visible": true,
      "include_colab_link": true
    },
    "kernelspec": {
      "name": "python3",
      "display_name": "Python 3"
    },
    "accelerator": "GPU"
  },
  "cells": [
    {
      "cell_type": "markdown",
      "metadata": {
        "id": "view-in-github",
        "colab_type": "text"
      },
      "source": [
        "<a href=\"https://colab.research.google.com/github/dieko95/AlgoTrading/blob/develop/AlgoTrading.ipynb\" target=\"_parent\"><img src=\"https://colab.research.google.com/assets/colab-badge.svg\" alt=\"Open In Colab\"/></a>"
      ]
    },
    {
      "cell_type": "markdown",
      "metadata": {
        "id": "BpXsMmTPhssr",
        "colab_type": "text"
      },
      "source": [
        "# AlgoTrading"
      ]
    },
    {
      "cell_type": "markdown",
      "metadata": {
        "id": "MVI-VlpKj4ye",
        "colab_type": "text"
      },
      "source": [
        "## Download Alt Data (Tweets)\n",
        "\n",
        "https://pypi.org/project/GetOldTweets3/\n",
        "\n",
        "\n",
        "\n",
        "```\n",
        "python Exporter.py --query @RedHat --since 2014-01-01 --until 2019-01-15 --maxtweets 5000000\n",
        "```\n",
        "\n"
      ]
    },
    {
      "cell_type": "code",
      "metadata": {
        "id": "R7gvszGpiPfn",
        "colab_type": "code",
        "outputId": "d81131d4-0645-4ef0-cb8e-1e05cac20aa9",
        "colab": {
          "base_uri": "https://localhost:8080/",
          "height": 51
        }
      },
      "source": [
        "# !pip install GetOldTweets3\n",
        "# !pip install langdetect\n",
        "# !pip install vaderSentiment"
      ],
      "execution_count": 1,
      "outputs": [
        {
          "output_type": "stream",
          "text": [
            "Requirement already satisfied: langdetect in /usr/local/lib/python3.6/dist-packages (1.0.7)\n",
            "Requirement already satisfied: six in /usr/local/lib/python3.6/dist-packages (from langdetect) (1.12.0)\n"
          ],
          "name": "stdout"
        }
      ]
    },
    {
      "cell_type": "code",
      "metadata": {
        "id": "28upphhFp6Vp",
        "colab_type": "code",
        "colab": {}
      },
      "source": [
        "import pandas as pd\n",
        "from pandas import Series, DataFrame\n",
        "import numpy as np \n",
        "from langdetect import detect\n",
        "import time\n"
      ],
      "execution_count": 0,
      "outputs": []
    },
    {
      "cell_type": "code",
      "metadata": {
        "id": "e9EENuzQBLo2",
        "colab_type": "code",
        "colab": {
          "base_uri": "https://localhost:8080/",
          "height": 34
        },
        "outputId": "87d2fb71-3b02-4659-f1a3-f83fd9d98ae5"
      },
      "source": [
        "# !pip install -U -q PyDrive\n",
        " \n",
        "from pydrive.auth import GoogleAuth\n",
        "from pydrive.drive import GoogleDrive\n",
        "from google.colab import auth\n",
        "from oauth2client.client import GoogleCredentials\n",
        "\n",
        "auth.authenticate_user()\n",
        "gauth = GoogleAuth()\n",
        "gauth.credentials = GoogleCredentials.get_application_default()\n",
        "drive = GoogleDrive(gauth)\n",
        "\n",
        "link = 'https://drive.google.com/open?id=1NSuc3X37Z2r29mxKt92JFs0krF63aNNM'\n",
        "fluff, id = link.split('=')\n",
        "\n",
        "print(id)\n"
      ],
      "execution_count": 188,
      "outputs": [
        {
          "output_type": "stream",
          "text": [
            "1NSuc3X37Z2r29mxKt92JFs0krF63aNNM\n"
          ],
          "name": "stdout"
        }
      ]
    },
    {
      "cell_type": "code",
      "metadata": {
        "id": "kXryZbpSCnm4",
        "colab_type": "code",
        "colab": {}
      },
      "source": [
        "downloaded = drive.CreateFile({'id':id}) \n",
        "downloaded.GetContentFile('Filename.csv')  \n",
        "tweetsDf = pd.read_csv('Filename.csv')"
      ],
      "execution_count": 0,
      "outputs": []
    },
    {
      "cell_type": "code",
      "metadata": {
        "id": "5G-sm6XjB8aQ",
        "colab_type": "code",
        "colab": {
          "base_uri": "https://localhost:8080/",
          "height": 34
        },
        "outputId": "d8c5b555-aed7-4312-e6eb-c3f272a23279"
      },
      "source": [
        "tweetsDf.shape"
      ],
      "execution_count": 190,
      "outputs": [
        {
          "output_type": "execute_result",
          "data": {
            "text/plain": [
              "(51603, 10)"
            ]
          },
          "metadata": {
            "tags": []
          },
          "execution_count": 190
        }
      ]
    },
    {
      "cell_type": "markdown",
      "metadata": {
        "id": "qtWuZxpANECj",
        "colab_type": "text"
      },
      "source": [
        "##  Loading Prototype - snippet\n",
        "\n",
        "![alt text](https://cdn-images-1.medium.com/max/800/1*G8yV2iaqqfaGfmRPRem2Fw.png)"
      ]
    },
    {
      "cell_type": "code",
      "metadata": {
        "id": "5z_S_x8dF9cy",
        "colab_type": "code",
        "colab": {}
      },
      "source": [
        "# from google.colab import files\n",
        "\n",
        "# uploaded = files.upload()\n",
        "\n",
        "# for fn in uploaded.keys():\n",
        "#   print('User uploaded file \"{name}\" with length {length} bytes'.format(\n",
        "#       name=fn, length=len(uploaded[fn])))"
      ],
      "execution_count": 0,
      "outputs": []
    },
    {
      "cell_type": "code",
      "metadata": {
        "id": "fd7Rg4ybf1Fn",
        "colab_type": "code",
        "colab": {}
      },
      "source": [
        "# tweetsDf = pd.read_csv('redhatprototype.csv')"
      ],
      "execution_count": 0,
      "outputs": []
    },
    {
      "cell_type": "markdown",
      "metadata": {
        "id": "LSmHIhx1Qqvv",
        "colab_type": "text"
      },
      "source": [
        "## First Cleaning Iteration"
      ]
    },
    {
      "cell_type": "code",
      "metadata": {
        "id": "XtdgcVUtQtbI",
        "colab_type": "code",
        "colab": {
          "base_uri": "https://localhost:8080/",
          "height": 51
        },
        "outputId": "5bbdfcef-8b0b-4e64-e457-e0c4f6ac4422"
      },
      "source": [
        "# Erasing Short Tweets\n",
        "\n",
        "start_time = time.time()\n",
        "\n",
        "tweetsDf.text = tweetsDf.text.apply(lambda x: len(str(x).split()) < 3 and np.nan or x) #If the tweet is less than 7 characters create a NA place Holder \n",
        "\n",
        "\n",
        "# Erasing Misc Characters \n",
        "\n",
        "tweetsDf.text = tweetsDf.text.replace(r'@\\w*', '', regex = True) # Erases all usernames (word preceding @)\n",
        "tweetsDf.text = tweetsDf.text.replace(r'#\\w*', '', regex = True) # Erases hashtags\n",
        "tweetsDf.text = tweetsDf.text.replace(r'https://.+', '', regex = True) # Erases URLS\n",
        "\n",
        "print(\"Middle of program--- %s seconds ---\" % (time.time() - start_time))\n",
        "\n",
        "tweetsDf.text = tweetsDf.text.replace(r'http://.+', '', regex = True) # Erases URLS\n",
        "tweetsDf.text = tweetsDf.text.replace(r'=>', '', regex = True) # Erases =>\n",
        "tweetsDf.text = tweetsDf.text.replace(r'[$-/:-?{-~\"^_`\\[\\]]', '', regex = True) #Replace weird characters\n",
        "tweetsDf.text = tweetsDf.text.apply(lambda x: len(str(x).split()) < 3 and np.nan or x) #If the tweet is less than 3 characters create a NA place Holder \n",
        "\n",
        "\n",
        "\n",
        "tweetsDf = tweetsDf.dropna(subset=['text'])\n",
        "\n",
        "\n",
        "# Erasing Non English Tweets \n",
        "\n",
        "print(\"Before detect --- %s seconds ---\" % (time.time() - start_time))\n",
        "\n",
        "\n",
        "tweetsDf.text = tweetsDf.text.apply(lambda x: detect(str(x)) != 'en' and np.nan or x) # Creates NA place holder for text that is not in english \n",
        "\n",
        "tweetsDf = tweetsDf.dropna(subset=['text'])\n",
        "\n",
        "\n",
        "\n",
        "print(\"--- %s seconds ---\" % (time.time() - start_time))\n"
      ],
      "execution_count": 191,
      "outputs": [
        {
          "output_type": "stream",
          "text": [
            "Middle of program--- 0.25501370429992676 seconds ---\n",
            "--- 276.7730143070221 seconds ---\n"
          ],
          "name": "stdout"
        }
      ]
    },
    {
      "cell_type": "code",
      "metadata": {
        "id": "IwxUzzdEHSr0",
        "colab_type": "code",
        "colab": {
          "base_uri": "https://localhost:8080/",
          "height": 204
        },
        "outputId": "112ed7b8-cc9d-42cd-a003-4b782bc71185"
      },
      "source": [
        "# Tweets that were deleted - 110 for RHT \n",
        "print(tweetsDf.describe(), '\\n','\\n'\n",
        "     'Tweets Without Info: ', tweetsDf.shape[0] - tweetsDf.text.dropna().shape[0])\n",
        "\n",
        "tweetsDf = tweetsDf.dropna(subset=['text'])\n",
        "tweetsDf.shape"
      ],
      "execution_count": 91,
      "outputs": [
        {
          "output_type": "stream",
          "text": [
            "           retweets     favorites\n",
            "count  51603.000000  51603.000000\n",
            "mean       2.851714      4.312811\n",
            "std       18.691312     20.509410\n",
            "min        0.000000      0.000000\n",
            "25%        0.000000      0.000000\n",
            "50%        0.000000      1.000000\n",
            "75%        3.000000      4.000000\n",
            "max     2877.000000   2330.000000 \n",
            " \n",
            "Tweets Without Info:  110\n"
          ],
          "name": "stdout"
        }
      ]
    },
    {
      "cell_type": "code",
      "metadata": {
        "id": "0jKOEhc2f8S0",
        "colab_type": "code",
        "colab": {}
      },
      "source": [
        "start_time = time.time()\n",
        "\n",
        "from vaderSentiment.vaderSentiment import SentimentIntensityAnalyzer\n",
        "\n",
        "\n",
        "analyzer = SentimentIntensityAnalyzer()\n",
        "\n",
        "tweet = []\n",
        "number_favourites = []\n",
        "retweets = []\n",
        "vs_compound = []\n",
        "vs_pos = []\n",
        "vs_neu = []\n",
        "vs_neg = []\n",
        "timeStamp = []\n",
        "\n",
        "\n",
        "for i in range(tweetsDf.shape[0]):\n",
        "    tweet.append(tweetsDf.iloc[i,4])\n",
        "    number_favourites.append(tweetsDf.iloc[i,3])\n",
        "    retweets.append(tweetsDf.iloc[i,2])\n",
        "    timeStamp.append(tweetsDf.iloc[i,1])\n",
        "    vs_compound.append(analyzer.polarity_scores(tweetsDf.iloc[i,4])['compound'])\n",
        "    vs_pos.append(analyzer.polarity_scores(tweetsDf.iloc[i,4])['pos'])\n",
        "    vs_neu.append(analyzer.polarity_scores(tweetsDf.iloc[i,4])['neu'])\n",
        "    vs_neg.append(analyzer.polarity_scores(tweetsDf.iloc[i,4])['neg'])\n",
        "    \n",
        "    \n",
        "print(\"--- %s seconds ---\" % (time.time() - start_time))"
      ],
      "execution_count": 0,
      "outputs": []
    },
    {
      "cell_type": "code",
      "metadata": {
        "id": "Tc2yD4cXfuvY",
        "colab_type": "code",
        "outputId": "c6c0cd1a-6ec8-4dc3-ec4d-2c4a00277ba6",
        "colab": {
          "base_uri": "https://localhost:8080/",
          "height": 34
        }
      },
      "source": [
        "\n",
        "twitterDf = DataFrame({'Tweet': tweet,\n",
        "                        'Favourites': number_favourites,\n",
        "                        'retweets' : retweets,\n",
        "                        'timeStamp' : timeStamp,\n",
        "                        'Compound': vs_compound,\n",
        "                        'Positive': vs_pos,\n",
        "                        'Neutral': vs_neu,\n",
        "                        'Negative': vs_neg})\n",
        "twitterDf = twitterDf[['timeStamp','Tweet', 'Favourites', 'retweets','Compound',\n",
        "                         'Positive', 'Neutral', 'Negative']]\n",
        "\n",
        "twitterDf.shape"
      ],
      "execution_count": 194,
      "outputs": [
        {
          "output_type": "execute_result",
          "data": {
            "text/plain": [
              "(44801, 8)"
            ]
          },
          "metadata": {
            "tags": []
          },
          "execution_count": 194
        }
      ]
    },
    {
      "cell_type": "code",
      "metadata": {
        "id": "xRssJlv_hbK0",
        "colab_type": "code",
        "colab": {}
      },
      "source": [
        "from google.colab import files\n",
        "\n",
        "twitterDf.to_csv('cleanedTwitter_v0.1.csv')\n",
        "files.download('cleanedTwitter_v0.1.csv')"
      ],
      "execution_count": 0,
      "outputs": []
    },
    {
      "cell_type": "markdown",
      "metadata": {
        "id": "4W1ubXO1S8UA",
        "colab_type": "text"
      },
      "source": [
        "## Aggregating By Day"
      ]
    },
    {
      "cell_type": "code",
      "metadata": {
        "id": "Gjw8Nh1ioYOc",
        "colab_type": "code",
        "colab": {}
      },
      "source": [
        "aggDf = twitterDf.drop(columns = 'Tweet')\n",
        "aggDf.timeStamp = pd.to_datetime(aggDf.timeStamp) \n",
        "aggDf.set_index(aggDf[\"timeStamp\"],inplace=True)\n",
        "aggDfDay = aggDf.resample('D').sum()\n",
        "\n",
        "# aggDfDay.Compound.value_counts()\n",
        "\n",
        "aggDfDay"
      ],
      "execution_count": 0,
      "outputs": []
    },
    {
      "cell_type": "code",
      "metadata": {
        "id": "tWzs6ySdhMFp",
        "colab_type": "code",
        "colab": {}
      },
      "source": [
        "from google.colab import files\n",
        "\n",
        "aggDfDay.to_csv('aggDfDay_v0.1.csv')\n",
        "files.download('aggDfDay_v0.1.csv')"
      ],
      "execution_count": 0,
      "outputs": []
    }
  ]
}