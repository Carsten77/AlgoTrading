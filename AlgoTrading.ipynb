{
  "nbformat": 4,
  "nbformat_minor": 0,
  "metadata": {
    "colab": {
      "name": "AlgoTrading.ipynb",
      "version": "0.3.2",
      "provenance": [],
      "collapsed_sections": [
        "07p6KZWnoQLx",
        "XNYw644joXzH",
        "g0NXPoXqv1Yf",
        "qtWuZxpANECj",
        "EV76nOC-uj1v",
        "4W1ubXO1S8UA",
        "ipKw77OsMQe9",
        "IUe4KpDDQ3oE"
      ],
      "toc_visible": true,
      "include_colab_link": true
    },
    "kernelspec": {
      "name": "python3",
      "display_name": "Python 3"
    },
    "accelerator": "TPU"
  },
  "cells": [
    {
      "cell_type": "markdown",
      "metadata": {
        "id": "view-in-github",
        "colab_type": "text"
      },
      "source": [
        "<a href=\"https://colab.research.google.com/github/dieko95/AlgoTrading/blob/develop/AlgoTrading.ipynb\" target=\"_parent\"><img src=\"https://colab.research.google.com/assets/colab-badge.svg\" alt=\"Open In Colab\"/></a>"
      ]
    },
    {
      "cell_type": "markdown",
      "metadata": {
        "id": "BpXsMmTPhssr",
        "colab_type": "text"
      },
      "source": [
        "# AlgoTrading"
      ]
    },
    {
      "cell_type": "markdown",
      "metadata": {
        "id": "MVI-VlpKj4ye",
        "colab_type": "text"
      },
      "source": [
        "## Load Libraries and Data\n",
        "\n",
        "https://pypi.org/project/GetOldTweets3/\n",
        "\n",
        "\n",
        "\n",
        "```\n",
        "python Exporter.py --query @RedHat --since 2014-01-01 --until 2019-01-15 --maxtweets 5000000\n",
        "```\n",
        "\n"
      ]
    },
    {
      "cell_type": "markdown",
      "metadata": {
        "id": "WDYMY-XwuBF6",
        "colab_type": "text"
      },
      "source": [
        "### Install Libraries"
      ]
    },
    {
      "cell_type": "code",
      "metadata": {
        "id": "R7gvszGpiPfn",
        "colab_type": "code",
        "outputId": "2e6d2527-75bb-4265-8c41-b3ad4defb2ef",
        "colab": {
          "base_uri": "https://localhost:8080/",
          "height": 306
        }
      },
      "source": [
        "!pip install langdetect\n",
        "!pip install vaderSentiment\n",
        "!pip install -U -q PyDrive\n",
        "!pip install -q xlrd\n",
        "\n",
        " "
      ],
      "execution_count": 0,
      "outputs": [
        {
          "output_type": "stream",
          "text": [
            "Collecting langdetect\n",
            "\u001b[?25l  Downloading https://files.pythonhosted.org/packages/59/59/4bc44158a767a6d66de18c4136c8aa90491d56cc951c10b74dd1e13213c9/langdetect-1.0.7.zip (998kB)\n",
            "\u001b[K     |████████████████████████████████| 1.0MB 3.5MB/s \n",
            "\u001b[?25hRequirement already satisfied: six in /usr/local/lib/python3.6/dist-packages (from langdetect) (1.12.0)\n",
            "Building wheels for collected packages: langdetect\n",
            "  Building wheel for langdetect (setup.py) ... \u001b[?25l\u001b[?25hdone\n",
            "  Stored in directory: /root/.cache/pip/wheels/ec/0c/a9/1647275e7ef5014e7b83ff30105180e332867d65e7617ddafe\n",
            "Successfully built langdetect\n",
            "Installing collected packages: langdetect\n",
            "Successfully installed langdetect-1.0.7\n",
            "Collecting vaderSentiment\n",
            "\u001b[?25l  Downloading https://files.pythonhosted.org/packages/86/9e/c53e1fc61aac5ee490a6ac5e21b1ac04e55a7c2aba647bb8411c9aadf24e/vaderSentiment-3.2.1-py2.py3-none-any.whl (125kB)\n",
            "\u001b[K     |████████████████████████████████| 133kB 3.4MB/s \n",
            "\u001b[?25hInstalling collected packages: vaderSentiment\n",
            "Successfully installed vaderSentiment-3.2.1\n",
            "\u001b[K     |████████████████████████████████| 993kB 3.5MB/s \n",
            "\u001b[?25h  Building wheel for PyDrive (setup.py) ... \u001b[?25l\u001b[?25hdone\n"
          ],
          "name": "stdout"
        }
      ]
    },
    {
      "cell_type": "code",
      "metadata": {
        "id": "28upphhFp6Vp",
        "colab_type": "code",
        "colab": {}
      },
      "source": [
        "import pandas as pd\n",
        "from pandas import Series, DataFrame\n",
        "import numpy as np \n",
        "from langdetect import detect\n",
        "import time\n",
        "import seaborn as sns"
      ],
      "execution_count": 0,
      "outputs": []
    },
    {
      "cell_type": "markdown",
      "metadata": {
        "id": "8SnPNwbdwy_i",
        "colab_type": "text"
      },
      "source": [
        "### Load RHT Data"
      ]
    },
    {
      "cell_type": "markdown",
      "metadata": {
        "id": "5RLUVxZiuF9L",
        "colab_type": "text"
      },
      "source": [
        "#### Google Validation to read Google Drive Files "
      ]
    },
    {
      "cell_type": "code",
      "metadata": {
        "id": "e9EENuzQBLo2",
        "colab_type": "code",
        "colab": {}
      },
      "source": [
        "\n",
        "from pydrive.auth import GoogleAuth\n",
        "from pydrive.drive import GoogleDrive\n",
        "from google.colab import auth\n",
        "from oauth2client.client import GoogleCredentials\n",
        "\n",
        "auth.authenticate_user()\n",
        "gauth = GoogleAuth()\n",
        "gauth.credentials = GoogleCredentials.get_application_default()\n",
        "drive = GoogleDrive(gauth)\n"
      ],
      "execution_count": 0,
      "outputs": []
    },
    {
      "cell_type": "markdown",
      "metadata": {
        "id": "07p6KZWnoQLx",
        "colab_type": "text"
      },
      "source": [
        "#### Load Twitter Past WebScraped Data"
      ]
    },
    {
      "cell_type": "code",
      "metadata": {
        "id": "C6Xh5WP3UM9K",
        "colab_type": "code",
        "colab": {}
      },
      "source": [
        "\n",
        "# link = 'https://drive.google.com/open?id=1NSuc3X37Z2r29mxKt92JFs0krF63aNNM'\n",
        "# fluff, id = link.split('=')\n",
        "\n",
        "# print(id)\n"
      ],
      "execution_count": 0,
      "outputs": []
    },
    {
      "cell_type": "code",
      "metadata": {
        "id": "kXryZbpSCnm4",
        "colab_type": "code",
        "colab": {}
      },
      "source": [
        "# downloaded = drive.CreateFile({'id':id}) \n",
        "# downloaded.GetContentFile('Filename.csv')  \n",
        "# tweetsDf = pd.read_csv('Filename.csv')"
      ],
      "execution_count": 0,
      "outputs": []
    },
    {
      "cell_type": "code",
      "metadata": {
        "id": "5G-sm6XjB8aQ",
        "colab_type": "code",
        "colab": {}
      },
      "source": [
        "# tweetsDf.shape"
      ],
      "execution_count": 0,
      "outputs": []
    },
    {
      "cell_type": "markdown",
      "metadata": {
        "id": "XNYw644joXzH",
        "colab_type": "text"
      },
      "source": [
        "#### Load Fundamental Past Data"
      ]
    },
    {
      "cell_type": "code",
      "metadata": {
        "id": "vdIOMLfcUGMC",
        "colab_type": "code",
        "colab": {}
      },
      "source": [
        "import pandas as pd\n",
        "\n",
        "\n",
        "file_id = '1P-479AOJBUh1gAcTuxhGtsZHr_17nYV5'\n",
        "downloaded = drive.CreateFile({'id': file_id})\n",
        "downloaded.GetContentFile('exported.xlsx')\n",
        "\n",
        "fundData = pd.read_excel('exported.xlsx')\n",
        "\n"
      ],
      "execution_count": 0,
      "outputs": []
    },
    {
      "cell_type": "markdown",
      "metadata": {
        "id": "g0NXPoXqv1Yf",
        "colab_type": "text"
      },
      "source": [
        "#### Load Cleaned and Aggregated Tweets"
      ]
    },
    {
      "cell_type": "code",
      "metadata": {
        "id": "lTX8b-o7v1hz",
        "colab_type": "code",
        "colab": {}
      },
      "source": [
        "file_id = '1wtJlq-ebnj-5cimnB6Yl_T2FNYy21Ul4'\n",
        "downloaded = drive.CreateFile({'id': file_id})\n",
        "downloaded.GetContentFile('aggDfDay_v0.1.csv')\n",
        "\n",
        "aggTweetsDay = pd.read_csv('aggDfDay_v0.1.csv')"
      ],
      "execution_count": 0,
      "outputs": []
    },
    {
      "cell_type": "markdown",
      "metadata": {
        "id": "w7PQyClr2Emm",
        "colab_type": "text"
      },
      "source": [
        "#### Load Final Df for ML"
      ]
    },
    {
      "cell_type": "code",
      "metadata": {
        "id": "0B1fIpFU2EIf",
        "colab_type": "code",
        "colab": {}
      },
      "source": [
        "file_id = '1XtSm0enUNyogW-xjWctuZLHmEDHwJbqh'\n",
        "downloaded = drive.CreateFile({'id': file_id})\n",
        "downloaded.GetContentFile('mlFullDf.csv')\n",
        "\n",
        "mlDf = pd.read_csv('mlFullDf.csv')"
      ],
      "execution_count": 0,
      "outputs": []
    },
    {
      "cell_type": "markdown",
      "metadata": {
        "id": "qtWuZxpANECj",
        "colab_type": "text"
      },
      "source": [
        "#### Loading Prototype - snippet\n",
        "\n"
      ]
    },
    {
      "cell_type": "code",
      "metadata": {
        "id": "5z_S_x8dF9cy",
        "colab_type": "code",
        "colab": {}
      },
      "source": [
        "from google.colab import files\n",
        "\n",
        "uploaded = files.upload()\n",
        "\n",
        "for fn in uploaded.keys():\n",
        "  print('User uploaded file \"{name}\" with length {length} bytes'.format(\n",
        "      name=fn, length=len(uploaded[fn])))"
      ],
      "execution_count": 0,
      "outputs": []
    },
    {
      "cell_type": "code",
      "metadata": {
        "id": "fd7Rg4ybf1Fn",
        "colab_type": "code",
        "colab": {}
      },
      "source": [
        "# tweetsDf = pd.read_csv('redhatprototype.csv')"
      ],
      "execution_count": 0,
      "outputs": []
    },
    {
      "cell_type": "markdown",
      "metadata": {
        "id": "EV76nOC-uj1v",
        "colab_type": "text"
      },
      "source": [
        "## Text Cleaning for Freshly Webscraped tweets \n",
        "\n",
        "Don't use this if you downloaded the csv cleaned tweets "
      ]
    },
    {
      "cell_type": "markdown",
      "metadata": {
        "id": "LSmHIhx1Qqvv",
        "colab_type": "text"
      },
      "source": [
        "### First Cleaning Iteration"
      ]
    },
    {
      "cell_type": "code",
      "metadata": {
        "id": "XtdgcVUtQtbI",
        "colab_type": "code",
        "colab": {}
      },
      "source": [
        "# Erasing Short Tweets\n",
        "\n",
        "start_time = time.time()\n",
        "\n",
        "tweetsDf.text = tweetsDf.text.apply(lambda x: len(str(x).split()) < 3 and np.nan or x) #If the tweet is less than 7 characters create a NA place Holder \n",
        "\n",
        "\n",
        "# Erasing Misc Characters \n",
        "\n",
        "tweetsDf.text = tweetsDf.text.replace(r'@\\w*', '', regex = True) # Erases all usernames (word preceding @)\n",
        "tweetsDf.text = tweetsDf.text.replace(r'#\\w*', '', regex = True) # Erases hashtags\n",
        "tweetsDf.text = tweetsDf.text.replace(r'https://.+', '', regex = True) # Erases URLS\n",
        "\n",
        "print(\"Middle of program--- %s seconds ---\" % (time.time() - start_time))\n",
        "\n",
        "tweetsDf.text = tweetsDf.text.replace(r'http://.+', '', regex = True) # Erases URLS\n",
        "tweetsDf.text = tweetsDf.text.replace(r'=>', '', regex = True) # Erases =>\n",
        "tweetsDf.text = tweetsDf.text.replace(r'[$-/:-?{-~\"^_`\\[\\]]', '', regex = True) #Replace weird characters\n",
        "tweetsDf.text = tweetsDf.text.apply(lambda x: len(str(x).split()) < 3 and np.nan or x) #If the tweet is less than 3 characters create a NA place Holder \n",
        "\n",
        "\n",
        "\n",
        "tweetsDf = tweetsDf.dropna(subset=['text'])\n",
        "\n",
        "\n",
        "# Erasing Non English Tweets \n",
        "\n",
        "print(\"Before detect --- %s seconds ---\" % (time.time() - start_time))\n",
        "\n",
        "\n",
        "tweetsDf.text = tweetsDf.text.apply(lambda x: detect(str(x)) != 'en' and np.nan or x) # Creates NA place holder for text that is not in english \n",
        "\n",
        "tweetsDf = tweetsDf.dropna(subset=['text'])\n",
        "\n",
        "\n",
        "\n",
        "print(\"--- %s seconds ---\" % (time.time() - start_time))\n"
      ],
      "execution_count": 0,
      "outputs": []
    },
    {
      "cell_type": "code",
      "metadata": {
        "id": "IwxUzzdEHSr0",
        "colab_type": "code",
        "colab": {}
      },
      "source": [
        "# Tweets that were deleted - 110 for RHT \n",
        "print(tweetsDf.describe(), '\\n','\\n'\n",
        "     'Tweets Without Info: ', tweetsDf.shape[0] - tweetsDf.text.dropna().shape[0])\n",
        "\n",
        "tweetsDf = tweetsDf.dropna(subset=['text'])\n",
        "tweetsDf.shape"
      ],
      "execution_count": 0,
      "outputs": []
    },
    {
      "cell_type": "markdown",
      "metadata": {
        "id": "iK1YLkGUu9yO",
        "colab_type": "text"
      },
      "source": [
        "### Creation of sentiments\n",
        "\n",
        "![alt text](https://cdn-images-1.medium.com/max/800/1*G8yV2iaqqfaGfmRPRem2Fw.png)"
      ]
    },
    {
      "cell_type": "code",
      "metadata": {
        "id": "0jKOEhc2f8S0",
        "colab_type": "code",
        "colab": {}
      },
      "source": [
        "start_time = time.time()\n",
        "\n",
        "from vaderSentiment.vaderSentiment import SentimentIntensityAnalyzer\n",
        "\n",
        "\n",
        "analyzer = SentimentIntensityAnalyzer()\n",
        "\n",
        "tweet = []\n",
        "number_favourites = []\n",
        "retweets = []\n",
        "vs_compound = []\n",
        "vs_pos = []\n",
        "vs_neu = []\n",
        "vs_neg = []\n",
        "timeStamp = []\n",
        "\n",
        "\n",
        "for i in range(tweetsDf.shape[0]):\n",
        "    tweet.append(tweetsDf.iloc[i,4])\n",
        "    number_favourites.append(tweetsDf.iloc[i,3])\n",
        "    retweets.append(tweetsDf.iloc[i,2])\n",
        "    timeStamp.append(tweetsDf.iloc[i,1])\n",
        "    vs_compound.append(analyzer.polarity_scores(tweetsDf.iloc[i,4])['compound'])\n",
        "    vs_pos.append(analyzer.polarity_scores(tweetsDf.iloc[i,4])['pos'])\n",
        "    vs_neu.append(analyzer.polarity_scores(tweetsDf.iloc[i,4])['neu'])\n",
        "    vs_neg.append(analyzer.polarity_scores(tweetsDf.iloc[i,4])['neg'])\n",
        "    \n",
        "    \n",
        "print(\"--- %s seconds ---\" % (time.time() - start_time))"
      ],
      "execution_count": 0,
      "outputs": []
    },
    {
      "cell_type": "markdown",
      "metadata": {
        "id": "bdEqqgaSvB04",
        "colab_type": "text"
      },
      "source": [
        "#### Aggregation by count of sentiments  "
      ]
    },
    {
      "cell_type": "code",
      "metadata": {
        "id": "Tc2yD4cXfuvY",
        "colab_type": "code",
        "colab": {}
      },
      "source": [
        "\n",
        "twitterDf = DataFrame({'Tweet': tweet,\n",
        "                        'Favourites': number_favourites,\n",
        "                        'retweets' : retweets,\n",
        "                        'timeStamp' : timeStamp,\n",
        "                        'Compound': vs_compound,\n",
        "                        'Positive': vs_pos,\n",
        "                        'Neutral': vs_neu,\n",
        "                        'Negative': vs_neg})\n",
        "twitterDf = twitterDf[['timeStamp','Tweet', 'Favourites', 'retweets','Compound',\n",
        "                         'Positive', 'Neutral', 'Negative']]\n",
        "\n",
        "twitterDf.shape"
      ],
      "execution_count": 0,
      "outputs": []
    },
    {
      "cell_type": "markdown",
      "metadata": {
        "id": "P7hazF-Xom6d",
        "colab_type": "text"
      },
      "source": [
        "### Download Cleaned Tweets"
      ]
    },
    {
      "cell_type": "code",
      "metadata": {
        "id": "xRssJlv_hbK0",
        "colab_type": "code",
        "colab": {}
      },
      "source": [
        "# from google.colab import files\n",
        "\n",
        "# twitterDf.to_csv('cleanedTwitter_v0.1.csv')\n",
        "# files.download('cleanedTwitter_v0.1.csv')"
      ],
      "execution_count": 0,
      "outputs": []
    },
    {
      "cell_type": "markdown",
      "metadata": {
        "id": "4W1ubXO1S8UA",
        "colab_type": "text"
      },
      "source": [
        "## Aggregating By Day - Tweets"
      ]
    },
    {
      "cell_type": "code",
      "metadata": {
        "id": "Gjw8Nh1ioYOc",
        "colab_type": "code",
        "colab": {}
      },
      "source": [
        "aggDf = twitterDf.drop(columns = 'Tweet')\n",
        "aggDf.timeStamp = pd.to_datetime(aggDf.timeStamp) \n",
        "aggDf.set_index(aggDf[\"timeStamp\"],inplace=True)\n",
        "aggDfDay = aggDf.resample('D').sum()\n",
        "\n",
        "# aggDfDay.Compound.value_counts()\n",
        "\n",
        "aggDfDay"
      ],
      "execution_count": 0,
      "outputs": []
    },
    {
      "cell_type": "markdown",
      "metadata": {
        "id": "zPd9Lt4fUuSE",
        "colab_type": "text"
      },
      "source": [
        "### Download Data"
      ]
    },
    {
      "cell_type": "code",
      "metadata": {
        "id": "tWzs6ySdhMFp",
        "colab_type": "code",
        "colab": {}
      },
      "source": [
        "# from google.colab import files\n",
        "\n",
        "# aggDfDay.to_csv('aggDfDay_v0.1.csv')\n",
        "# files.download('aggDfDay_v0.1.csv')"
      ],
      "execution_count": 0,
      "outputs": []
    },
    {
      "cell_type": "markdown",
      "metadata": {
        "id": "1cLrA3eZR1vs",
        "colab_type": "text"
      },
      "source": [
        "### Index for tweets loaded from Local System"
      ]
    },
    {
      "cell_type": "code",
      "metadata": {
        "id": "OEpSkPSqTNjR",
        "colab_type": "code",
        "colab": {}
      },
      "source": [
        "# \n",
        "print(aggTweetsDay.shape,aggFundDfDay.shape)\n",
        "\n",
        "aggTweetsDay = aggTweetsDay.iloc[1:1826,:]\n",
        "\n",
        "print(aggTweetsDay.shape,aggFundDfDay.shape)"
      ],
      "execution_count": 0,
      "outputs": []
    },
    {
      "cell_type": "code",
      "metadata": {
        "id": "jkY7qXr7R6iO",
        "colab_type": "code",
        "colab": {}
      },
      "source": [
        "aggTweetsDay.timeStamp = pd.to_datetime(aggTweetsDay.timeStamp) \n",
        "aggTweetsDay.set_index(aggTweetsDay[\"timeStamp\"],inplace=True)"
      ],
      "execution_count": 0,
      "outputs": []
    },
    {
      "cell_type": "markdown",
      "metadata": {
        "id": "ipKw77OsMQe9",
        "colab_type": "text"
      },
      "source": [
        "## Loading Price and Fundamentals \n"
      ]
    },
    {
      "cell_type": "code",
      "metadata": {
        "id": "3ch-z8gZMPDj",
        "colab_type": "code",
        "colab": {}
      },
      "source": [
        "\n",
        "fundData.head()"
      ],
      "execution_count": 0,
      "outputs": []
    },
    {
      "cell_type": "markdown",
      "metadata": {
        "id": "udYamDxzNG7p",
        "colab_type": "text"
      },
      "source": [
        "### Aggregate by Day"
      ]
    },
    {
      "cell_type": "code",
      "metadata": {
        "id": "XlUheYegNBlQ",
        "colab_type": "code",
        "colab": {}
      },
      "source": [
        "print('Before Agg',aggFundDf.shape)\n",
        "aggFundDf = fundData\n",
        "aggFundDf.timeStamp = pd.to_datetime(aggFundDf.timeStamp) \n",
        "aggFundDf.set_index(aggFundDf[\"timeStamp\"],inplace=True)\n",
        "aggFundDfDay = aggFundDf.resample('D').sum()\n",
        "print('After Agg',aggFundDf.shape)"
      ],
      "execution_count": 0,
      "outputs": []
    },
    {
      "cell_type": "markdown",
      "metadata": {
        "id": "IUe4KpDDQ3oE",
        "colab_type": "text"
      },
      "source": [
        "## Inner Join tables"
      ]
    },
    {
      "cell_type": "code",
      "metadata": {
        "id": "t2a4sf71Q2wT",
        "colab_type": "code",
        "colab": {}
      },
      "source": [
        "finalDf = aggFundDfDay.join(aggTweetsDay,'timeStamp')\n",
        "finalDf.head()\n",
        "\n",
        "\n",
        "finalDfNames = [\n",
        "       'Diluted EPS from Continuing Operations', 'EBIT Margin',\n",
        "       'EBITDA Margin', 'Revenue % Growth', 'EBITDA % Growth', 'EBIT % Growth',\n",
        "       'Net Income from Continuing Operations Sequential % Growth',\n",
        "       'Net Debt to Equity', 'Favourites', 'retweets', 'Compound',\n",
        "       'Positive', 'Neutral', 'Negative','Return'\n",
        "]\n",
        "\n",
        "\n",
        "finalDf = finalDf[finalDfNames]\n",
        "\n",
        "from google.colab import files\n",
        "\n",
        "finalDf.to_csv('mlFullDf.csv')\n",
        "files.download('mlFullDf.csv')"
      ],
      "execution_count": 0,
      "outputs": []
    },
    {
      "cell_type": "markdown",
      "metadata": {
        "id": "z7O9JDMmV2q3",
        "colab_type": "text"
      },
      "source": [
        "# Machine Learning "
      ]
    },
    {
      "cell_type": "markdown",
      "metadata": {
        "id": "LVD-sA4rV6eS",
        "colab_type": "text"
      },
      "source": [
        "## Data Prep\n",
        "\n"
      ]
    },
    {
      "cell_type": "markdown",
      "metadata": {
        "id": "0QOAZ61s5L9r",
        "colab_type": "text"
      },
      "source": [
        "### Creating Features and Target"
      ]
    },
    {
      "cell_type": "code",
      "metadata": {
        "id": "WmtfGHc-V5pr",
        "colab_type": "code",
        "outputId": "d5c76973-8974-4b23-e7e6-449a882637ca",
        "colab": {
          "base_uri": "https://localhost:8080/",
          "height": 323
        }
      },
      "source": [
        "mlDf = mlDf.dropna()\n",
        "\n",
        "feature_names = [\n",
        "       'Diluted EPS from Continuing Operations', 'EBIT Margin',\n",
        "       'EBITDA Margin', 'Revenue % Growth', 'EBITDA % Growth', 'EBIT % Growth',\n",
        "       'Net Income from Continuing Operations Sequential % Growth',\n",
        "       'Net Debt to Equity', 'Favourites', 'retweets', 'Compound','timeStamp',\n",
        "       'Positive', 'Neutral', 'Negative'\n",
        "]\n",
        "\n",
        "# Setting the Time Stamp as the Index\n",
        "mlDf.timeStamp = pd.to_datetime(mlDf.timeStamp) \n",
        "mlDf.set_index(mlDf[\"timeStamp\"],inplace=True)\n",
        "\n",
        "\n",
        "# Create features and targets\n",
        "# mlDf Loaded in First Section\n",
        "features = mlDf[feature_names]\n",
        "features = features.drop(columns=\"timeStamp\")\n",
        "targets = mlDf['Return']\n",
        "\n",
        "# Create DataFrame from target column and feature columns\n",
        "feature_and_target_cols = ['Return'] + feature_names\n",
        "feat_targ_df = mlDf[feature_and_target_cols]\n",
        "\n",
        "# Calculate correlation matrix\n",
        "corr = feat_targ_df.corr()\n",
        "print(corr)"
      ],
      "execution_count": 0,
      "outputs": [
        {
          "output_type": "stream",
          "text": [
            "                                                      Return  ...  Negative\n",
            "Return                                              1.000000  ...  0.005220\n",
            "Diluted EPS from Continuing Operations              0.043457  ...  0.179761\n",
            "EBIT Margin                                         0.030326  ...  0.059455\n",
            "EBITDA Margin                                       0.029090  ...  0.046035\n",
            "Revenue % Growth                                    0.033500  ...  0.094093\n",
            "EBITDA % Growth                                     0.031476  ...  0.205550\n",
            "EBIT % Growth                                       0.029349  ...  0.205432\n",
            "Net Income from Continuing Operations Sequentia...  0.009910  ...  0.068854\n",
            "Net Debt to Equity                                 -0.033897  ... -0.106857\n",
            "Favourites                                          0.002452  ...  0.794346\n",
            "retweets                                            0.001478  ...  0.696416\n",
            "Compound                                            0.001805  ...  0.839535\n",
            "Positive                                            0.004805  ...  0.899260\n",
            "Neutral                                             0.004254  ...  0.938190\n",
            "Negative                                            0.005220  ...  1.000000\n",
            "\n",
            "[15 rows x 15 columns]\n"
          ],
          "name": "stdout"
        }
      ]
    },
    {
      "cell_type": "markdown",
      "metadata": {
        "id": "afIAc8GvtWL9",
        "colab_type": "text"
      },
      "source": [
        "### Train Test Split"
      ]
    },
    {
      "cell_type": "code",
      "metadata": {
        "id": "7XPvHGdykzGS",
        "colab_type": "code",
        "outputId": "05880056-2e18-4c7b-a9f3-97fb1d93219e",
        "colab": {
          "base_uri": "https://localhost:8080/",
          "height": 34
        }
      },
      "source": [
        "train_size = int(0.85 * features.shape[0])\n",
        "train_features = features[:train_size]\n",
        "train_targets = targets[:train_size]\n",
        "test_features = features[train_size:]\n",
        "test_targets = targets[train_size:]\n",
        "print(features.shape, train_features.shape, test_features.shape)\n",
        "\n",
        "# train_features = train_features.drop(columns='timeStamp')\n",
        "# test_features = test_features.drop(columns='timeStamp')\n",
        "\n",
        "# train_features = train_features.dropna()\n",
        "# test_features = test_features.dropna()"
      ],
      "execution_count": 0,
      "outputs": [
        {
          "output_type": "stream",
          "text": [
            "(1824, 14) (1550, 14) (274, 14)\n"
          ],
          "name": "stdout"
        }
      ]
    },
    {
      "cell_type": "code",
      "metadata": {
        "id": "IqLLJhLkbyhX",
        "colab_type": "code",
        "outputId": "6dc7886f-bc58-4a62-c16d-00f607b69183",
        "colab": {
          "base_uri": "https://localhost:8080/",
          "height": 854
        }
      },
      "source": [
        "import seaborn as sns \n",
        "\n",
        "sns.set(rc={'figure.figsize':(11.7,8.27)})\n",
        "\n",
        "sns.heatmap(feat_targ_df.corr(), cmap=\"YlGnBu\")"
      ],
      "execution_count": 0,
      "outputs": [
        {
          "output_type": "execute_result",
          "data": {
            "text/plain": [
              "<matplotlib.axes._subplots.AxesSubplot at 0x7fa3f4a0fe10>"
            ]
          },
          "metadata": {
            "tags": []
          },
          "execution_count": 9
        },
        {
          "output_type": "display_data",
          "data": {
            "image/png": "[encoded data removed]",
            "text/plain": [
              "<Figure size 842.4x595.44 with 2 Axes>"
            ]
          },
          "metadata": {
            "tags": []
          }
        }
      ]
    },
    {
      "cell_type": "markdown",
      "metadata": {
        "id": "IxNVUYZgs3fU",
        "colab_type": "text"
      },
      "source": [
        "### First Generic Model - Decision Tree \n",
        "\n",
        "Hugely Overfitting! "
      ]
    },
    {
      "cell_type": "code",
      "metadata": {
        "id": "tetm2k6LzsOe",
        "colab_type": "code",
        "outputId": "01b0e63b-621b-4d6f-9545-91c489f394cf",
        "colab": {
          "base_uri": "https://localhost:8080/",
          "height": 51
        }
      },
      "source": [
        "from sklearn.tree import DecisionTreeRegressor\n",
        "\n",
        "# Create a decision tree regression model with default arguments\n",
        "decision_tree = DecisionTreeRegressor(random_state=0)\n",
        "\n",
        "decFit = decision_tree.fit(train_features,train_targets)\n",
        "\n",
        "print(decision_tree.score(train_features, train_targets))\n",
        "print(decision_tree.score(test_features,test_targets))"
      ],
      "execution_count": 0,
      "outputs": [
        {
          "output_type": "stream",
          "text": [
            "0.9999786765405798\n",
            "-0.7474783390027289\n"
          ],
          "name": "stdout"
        }
      ]
    },
    {
      "cell_type": "markdown",
      "metadata": {
        "id": "nQug0XPA4eNl",
        "colab_type": "text"
      },
      "source": [
        "### Decision Tree with Cross Validation \n",
        "\n",
        "We can observe the R Squared scores in each train and test split, in all of the cases the data is overvitted"
      ]
    },
    {
      "cell_type": "code",
      "metadata": {
        "id": "kSh9vonE0SXL",
        "colab_type": "code",
        "outputId": "5bb3d3c7-6c1d-43ee-f7d6-814519096f1c",
        "colab": {
          "base_uri": "https://localhost:8080/",
          "height": 85
        }
      },
      "source": [
        "from sklearn.model_selection import cross_validate, cross_val_score\n",
        "\n",
        "\n",
        "\n",
        "decision_tree = DecisionTreeRegressor(random_state=0)\n",
        "\n",
        "\n",
        "\n",
        "scores = cross_validate(decision_tree,features,targets,return_train_score=True, cv=5)\n",
        "scores  "
      ],
      "execution_count": 0,
      "outputs": [
        {
          "output_type": "execute_result",
          "data": {
            "text/plain": [
              "{'fit_time': array([0.02122283, 0.01416802, 0.01592803, 0.01437211, 0.02219629]),\n",
              " 'score_time': array([0.00204921, 0.00177455, 0.00186896, 0.00180459, 0.00189614]),\n",
              " 'test_score': array([-2.27199045, -3.25758357, -0.54325437, -1.72530914, -0.21013178]),\n",
              " 'train_score': array([0.999972  , 0.99997764, 0.99995611, 0.99998701, 0.99997562])}"
            ]
          },
          "metadata": {
            "tags": []
          },
          "execution_count": 11
        }
      ]
    },
    {
      "cell_type": "code",
      "metadata": {
        "id": "3wFx54Iv5V3r",
        "colab_type": "code",
        "colab": {}
      },
      "source": [
        "#Visualizing the decision Tree\n",
        "\n",
        "# from sklearn.externals.six import StringIO  \n",
        "# from IPython.display import Image  \n",
        "# from sklearn.tree import export_graphviz\n",
        "# import pydotplus\n",
        "# dot_data = StringIO()\n",
        "# export_graphviz(decFit, out_file=dot_data,  \n",
        "#                 filled=True, rounded=True,\n",
        "#                 special_characters=True)\n",
        "\n",
        "# graph = pydotplus.graph_from_dot_data(dot_data.getvalue())  \n",
        "# Image(graph.create_png())"
      ],
      "execution_count": 0,
      "outputs": []
    },
    {
      "cell_type": "markdown",
      "metadata": {
        "id": "D_Vcr4Ap26i7",
        "colab_type": "text"
      },
      "source": [
        "### Decision Tree with GridSearch"
      ]
    },
    {
      "cell_type": "code",
      "metadata": {
        "id": "tg5FyCiM5pwE",
        "colab_type": "code",
        "outputId": "b1c09ca1-8594-4412-b4a5-f8fa83b6de0e",
        "colab": {
          "base_uri": "https://localhost:8080/",
          "height": 88
        }
      },
      "source": [
        "from sklearn.model_selection import GridSearchCV\n",
        "\n",
        "depths = np.arange(1, 21)\n",
        "num_leafs = [5, 10, 20, 50, 100]\n",
        "\n",
        "param_grid = [{'max_depth':depths,\n",
        "              'max_leaf_nodes':num_leafs}]\n",
        "\n",
        "decision_tree = DecisionTreeRegressor(random_state=0)\n",
        "\n",
        "gs = GridSearchCV(estimator=decision_tree, param_grid=param_grid, scoring='r2', cv=5)\n",
        "\n",
        "gs = gs.fit(features, targets)\n",
        "\n",
        "gs.best_score_"
      ],
      "execution_count": 0,
      "outputs": [
        {
          "output_type": "stream",
          "text": [
            "/usr/local/lib/python3.6/dist-packages/sklearn/model_selection/_search.py:813: DeprecationWarning: The default of the `iid` parameter will change from True to False in version 0.22 and will be removed in 0.24. This will change numeric results when test-set sizes are unequal.\n",
            "  DeprecationWarning)\n"
          ],
          "name": "stderr"
        },
        {
          "output_type": "execute_result",
          "data": {
            "text/plain": [
              "-0.0059534952969904935"
            ]
          },
          "metadata": {
            "tags": []
          },
          "execution_count": 13
        }
      ]
    },
    {
      "cell_type": "markdown",
      "metadata": {
        "id": "5lccYCdq4fH9",
        "colab_type": "text"
      },
      "source": [
        "### Download Decision Tree Model "
      ]
    },
    {
      "cell_type": "code",
      "metadata": {
        "id": "16YX2gAnLjjN",
        "colab_type": "code",
        "colab": {}
      },
      "source": [
        "# toExp = pd.DataFrame({'timeStamp':mlDf.index, 'predictedReturns':decFit.predict(features)})"
      ],
      "execution_count": 0,
      "outputs": []
    },
    {
      "cell_type": "code",
      "metadata": {
        "id": "Q4hGnL-SLn6w",
        "colab_type": "code",
        "colab": {}
      },
      "source": [
        "# from google.colab import files\n",
        "\n",
        "# toExp.to_csv('ReturnPredictions-SimpleRegTreeNoParam_v0.1.csv')\n",
        "# files.download('ReturnPredictions-SimpleRegTreeNoParam_v0.1.csv')"
      ],
      "execution_count": 0,
      "outputs": []
    },
    {
      "cell_type": "code",
      "metadata": {
        "id": "TBDcpN42Ovv1",
        "colab_type": "code",
        "colab": {}
      },
      "source": [
        "# tests = pd.DataFrame({'Original Returns':test_targets, 'predictedReturns':decFit.predict(test_features)})\n",
        "# tests"
      ],
      "execution_count": 0,
      "outputs": []
    },
    {
      "cell_type": "markdown",
      "metadata": {
        "id": "wRqo-n633Ntg",
        "colab_type": "text"
      },
      "source": [
        "### Random Forest"
      ]
    },
    {
      "cell_type": "code",
      "metadata": {
        "id": "Ym8fC9wZ3ODw",
        "colab_type": "code",
        "outputId": "0bc161ca-d4a5-40da-ae27-91ce8abbbda5",
        "colab": {
          "base_uri": "https://localhost:8080/",
          "height": 85
        }
      },
      "source": [
        "from sklearn.ensemble import RandomForestRegressor\n",
        "\n",
        "# Create the random forest model and fit to the training data\n",
        "rfr = RandomForestRegressor(random_state = 0)\n",
        "rfr.fit(train_features, train_targets)\n",
        "\n",
        "# Look at the R^2 scores on train and test\n",
        "print(rfr.score(train_features, train_targets))\n",
        "print(rfr.score(test_features,test_targets))\n",
        "\n"
      ],
      "execution_count": 0,
      "outputs": [
        {
          "output_type": "stream",
          "text": [
            "0.7875499157518719\n",
            "-0.2012072203642412\n"
          ],
          "name": "stdout"
        },
        {
          "output_type": "stream",
          "text": [
            "/usr/local/lib/python3.6/dist-packages/sklearn/ensemble/forest.py:245: FutureWarning: The default value of n_estimators will change from 10 in version 0.20 to 100 in 0.22.\n",
            "  \"10 in version 0.20 to 100 in 0.22.\", FutureWarning)\n"
          ],
          "name": "stderr"
        }
      ]
    },
    {
      "cell_type": "code",
      "metadata": {
        "id": "4llPMe6G9O17",
        "colab_type": "code",
        "outputId": "55a80302-72cb-4b06-ff6f-f35671ff9964",
        "colab": {
          "base_uri": "https://localhost:8080/",
          "height": 51
        }
      },
      "source": [
        "from sklearn.model_selection import GridSearchCV\n",
        "\n",
        "depths = np.arange(1, 21)\n",
        "num_leafs = [5, 10, 20, 50, 100]\n",
        "\n",
        "param_grid = [{'max_depth':depths,\n",
        "              'max_leaf_nodes':num_leafs}]\n",
        "\n",
        "gs = GridSearchCV(estimator=rfr, param_grid=param_grid,return_train_score=True, scoring='r2',verbose=0, cv=5)\n",
        "\n",
        "gs = gs.fit(features, targets)\n",
        "\n",
        "\n",
        "\n",
        "\n",
        "print('Best Score:{} \\n Best Params: {}'.format(gs.best_score_, gs.best_params_))"
      ],
      "execution_count": 0,
      "outputs": [
        {
          "output_type": "stream",
          "text": [
            "Best Score:-0.005815546185934584 \n",
            " Best Params: {'max_depth': 1, 'max_leaf_nodes': 5}\n"
          ],
          "name": "stdout"
        }
      ]
    },
    {
      "cell_type": "markdown",
      "metadata": {
        "id": "DhHrp2JL45OO",
        "colab_type": "text"
      },
      "source": [
        "#### Cross-Validation for Random Forest"
      ]
    },
    {
      "cell_type": "code",
      "metadata": {
        "id": "X7xYRBpq_bA4",
        "colab_type": "code",
        "outputId": "2268c6eb-7ac3-4a6b-acc9-95d90bb5b8cb",
        "colab": {
          "base_uri": "https://localhost:8080/",
          "height": 85
        }
      },
      "source": [
        "from sklearn.model_selection import cross_validate, cross_val_score\n",
        "\n",
        "\n",
        "\n",
        "decision_tree = DecisionTreeRegressor(random_state=0)\n",
        "\n",
        "\n",
        "\n",
        "scores = cross_validate(rfr,features,targets,return_train_score=True, cv=5)\n",
        "scores  "
      ],
      "execution_count": 0,
      "outputs": [
        {
          "output_type": "execute_result",
          "data": {
            "text/plain": [
              "{'fit_time': array([0.02520251, 0.01544189, 0.01703024, 0.01490116, 0.01528621]),\n",
              " 'score_time': array([0.00261521, 0.00361848, 0.00240612, 0.00232983, 0.0023303 ]),\n",
              " 'test_score': array([-0.00347149, -0.00028206, -0.00568502, -0.01696987, -0.00266065]),\n",
              " 'train_score': array([0.00791985, 0.00580272, 0.00667378, 0.00508564, 0.00933457])}"
            ]
          },
          "metadata": {
            "tags": []
          },
          "execution_count": 25
        }
      ]
    },
    {
      "cell_type": "markdown",
      "metadata": {
        "id": "nIUa3dYM7Iv_",
        "colab_type": "text"
      },
      "source": [
        "#### Fit Random Forest with gridsearched parameters "
      ]
    },
    {
      "cell_type": "code",
      "metadata": {
        "id": "SikRCsMy6szS",
        "colab_type": "code",
        "colab": {}
      },
      "source": [
        "rfr = RandomForestRegressor(max_depth=1, max_leaf_nodes=5 ,random_state = 0)\n",
        "rfr.fit(train_features, train_targets)\n",
        "\n",
        "# for feature in zip(feature_names, rfr.feature_importances_):\n",
        "#     print(feature)"
      ],
      "execution_count": 0,
      "outputs": []
    },
    {
      "cell_type": "markdown",
      "metadata": {
        "id": "oN-8SsXv7eve",
        "colab_type": "text"
      },
      "source": [
        "#### Feature Selection with Random Forest"
      ]
    },
    {
      "cell_type": "code",
      "metadata": {
        "id": "hsE4FBvV7K7R",
        "colab_type": "code",
        "outputId": "fdaae4b5-c62d-406c-990f-713207e766cb",
        "colab": {
          "base_uri": "https://localhost:8080/",
          "height": 550
        }
      },
      "source": [
        "import matplotlib.pyplot as plt\n",
        "\n",
        "importances = rfr.feature_importances_\n",
        "indices = np.argsort(importances)\n",
        "\n",
        "plt.figure(1)\n",
        "plt.title('Feature Importances')\n",
        "plt.barh(range(len(indices)), importances[indices], color='b', align='center')\n",
        "plt.yticks(range(len(indices)), features)\n",
        "plt.xlabel('Relative Importance')"
      ],
      "execution_count": 0,
      "outputs": [
        {
          "output_type": "execute_result",
          "data": {
            "text/plain": [
              "Text(0.5, 0, 'Relative Importance')"
            ]
          },
          "metadata": {
            "tags": []
          },
          "execution_count": 28
        },
        {
          "output_type": "display_data",
          "data": {
            "image/png": "[encoded data removed]",
            "text/plain": [
              "<Figure size 842.4x595.44 with 1 Axes>"
            ]
          },
          "metadata": {
            "tags": []
          }
        }
      ]
    },
    {
      "cell_type": "markdown",
      "metadata": {
        "id": "CthCI9Y13wZX",
        "colab_type": "text"
      },
      "source": [
        "### Gradient Boosting Regressor"
      ]
    },
    {
      "cell_type": "code",
      "metadata": {
        "id": "53KJ7CuW3z90",
        "colab_type": "code",
        "outputId": "0d13efd0-a569-402c-fe18-6d07f9373f90",
        "colab": {
          "base_uri": "https://localhost:8080/",
          "height": 34
        }
      },
      "source": [
        "import numpy as np\n",
        "from sklearn.metrics import r2_score, explained_variance_score\n",
        "from sklearn.datasets import make_friedman1\n",
        "from sklearn.ensemble import GradientBoostingRegressor\n",
        "\n",
        "est = GradientBoostingRegressor(n_estimators=10000, learning_rate=0.1,\n",
        "    max_depth=1, random_state=0, loss='ls').fit(train_features, train_targets)\n",
        "# r2_score(test_targets, est.predict(test_features))    \n",
        "# explained_variance_score(test_targets, est.predict(test_features))\n",
        "explained_variance_score(train_targets, est.predict(train_features))"
      ],
      "execution_count": 0,
      "outputs": [
        {
          "output_type": "execute_result",
          "data": {
            "text/plain": [
              "0.2452221282521364"
            ]
          },
          "metadata": {
            "tags": []
          },
          "execution_count": 26
        }
      ]
    },
    {
      "cell_type": "markdown",
      "metadata": {
        "id": "EfZalAjT7k0P",
        "colab_type": "text"
      },
      "source": [
        "#### Feature Selection for Gradient Boosting"
      ]
    },
    {
      "cell_type": "code",
      "metadata": {
        "id": "JcYFgE3r5CG3",
        "colab_type": "code",
        "outputId": "6711e4e1-13ed-415e-d605-9a1124dcf0e2",
        "colab": {
          "base_uri": "https://localhost:8080/",
          "height": 533
        }
      },
      "source": [
        "# Plot feature importance\n",
        "feature_importance = est.feature_importances_\n",
        "# make importances relative to max importance\n",
        "feature_importance = 100.0 * (feature_importance / feature_importance.max())\n",
        "sorted_idx = np.argsort(feature_importance)\n",
        "pos = np.arange(sorted_idx.shape[0]) + .5\n",
        "plt.subplot(1, 2, 2)\n",
        "plt.barh(pos, feature_importance[sorted_idx], align='center')\n",
        "plt.yticks(pos, features.columns[sorted_idx])\n",
        "plt.xlabel('Relative Importance')\n",
        "plt.title('Variable Importance')\n",
        "plt.show()"
      ],
      "execution_count": 0,
      "outputs": [
        {
          "output_type": "display_data",
          "data": {
            "image/png": "[encoded data removed]",
            "text/plain": [
              "<Figure size 842.4x595.44 with 1 Axes>"
            ]
          },
          "metadata": {
            "tags": []
          }
        }
      ]
    },
    {
      "cell_type": "markdown",
      "metadata": {
        "id": "P6ksT01G3Aii",
        "colab_type": "text"
      },
      "source": [
        "### Neural Nets"
      ]
    },
    {
      "cell_type": "markdown",
      "metadata": {
        "id": "sF1zjM_ZlnsA",
        "colab_type": "text"
      },
      "source": [
        "#### Scale Variables "
      ]
    },
    {
      "cell_type": "code",
      "metadata": {
        "id": "d6wXmQYraTp2",
        "colab_type": "code",
        "colab": {}
      },
      "source": [
        "from sklearn.preprocessing import scale\n",
        "\n",
        "# Remove unimportant features (weekdays)\n",
        "train_features = train_features.iloc[:, :-4]\n",
        "test_features = test_features.iloc[:, :-4]\n",
        "\n",
        "# Standardize the train and test features\n",
        "scaled_train_features = scale(train_features)\n",
        "scaled_test_features = scale(test_features)\n"
      ],
      "execution_count": 0,
      "outputs": []
    },
    {
      "cell_type": "markdown",
      "metadata": {
        "id": "4ZS2Xto9721w",
        "colab_type": "text"
      },
      "source": [
        "#### Neural net 1"
      ]
    },
    {
      "cell_type": "code",
      "metadata": {
        "id": "n3nIDBg6PAOt",
        "colab_type": "code",
        "outputId": "8620661e-d347-4caf-e76b-6297c90d3d39",
        "colab": {
          "base_uri": "https://localhost:8080/",
          "height": 3417
        }
      },
      "source": [
        "\n",
        "from keras.models import Sequential\n",
        "from keras.layers import Dense\n",
        "\n",
        "\n",
        "\n",
        "from numpy.random import seed\n",
        "seed(1)\n",
        "\n",
        "# Create the model\n",
        "model_1 = Sequential()\n",
        "model_1.add(Dense(100, input_dim=scaled_train_features.shape[1], activation='relu'))\n",
        "model_1.add(Dense(40, activation='relu'))\n",
        "model_1.add(Dense(20, activation='relu'))\n",
        "model_1.add(Dense(1, activation='linear'))\n",
        "\n",
        "# Fit the model\n",
        "model_1.compile(optimizer='adam', loss='mse')\n",
        "history = model_1.fit(scaled_train_features, train_targets, epochs=100)\n"
      ],
      "execution_count": 0,
      "outputs": [
        {
          "output_type": "stream",
          "text": [
            "Epoch 1/100\n",
            "1550/1550 [==============================] - 0s 291us/step - loss: 0.0030\n",
            "Epoch 2/100\n",
            "1550/1550 [==============================] - 0s 56us/step - loss: 3.4140e-04\n",
            "Epoch 3/100\n",
            "1550/1550 [==============================] - 0s 53us/step - loss: 2.7138e-04\n",
            "Epoch 4/100\n",
            "1550/1550 [==============================] - 0s 50us/step - loss: 2.5956e-04\n",
            "Epoch 5/100\n",
            "1550/1550 [==============================] - 0s 47us/step - loss: 2.9560e-04\n",
            "Epoch 6/100\n",
            "1550/1550 [==============================] - 0s 51us/step - loss: 2.3935e-04\n",
            "Epoch 7/100\n",
            "1550/1550 [==============================] - 0s 61us/step - loss: 2.6790e-04\n",
            "Epoch 8/100\n",
            "1550/1550 [==============================] - 0s 55us/step - loss: 2.1798e-04\n",
            "Epoch 9/100\n",
            "1550/1550 [==============================] - 0s 46us/step - loss: 2.9699e-04\n",
            "Epoch 10/100\n",
            "1550/1550 [==============================] - 0s 55us/step - loss: 3.2076e-04\n",
            "Epoch 11/100\n",
            "1550/1550 [==============================] - 0s 53us/step - loss: 2.4812e-04\n",
            "Epoch 12/100\n",
            "1550/1550 [==============================] - 0s 52us/step - loss: 2.0708e-04\n",
            "Epoch 13/100\n",
            "1550/1550 [==============================] - 0s 54us/step - loss: 2.0802e-04\n",
            "Epoch 14/100\n",
            "1550/1550 [==============================] - 0s 50us/step - loss: 2.0393e-04\n",
            "Epoch 15/100\n",
            "1550/1550 [==============================] - 0s 58us/step - loss: 2.0745e-04\n",
            "Epoch 16/100\n",
            "1550/1550 [==============================] - 0s 49us/step - loss: 1.8852e-04\n",
            "Epoch 17/100\n",
            "1550/1550 [==============================] - 0s 51us/step - loss: 2.3112e-04\n",
            "Epoch 18/100\n",
            "1550/1550 [==============================] - 0s 44us/step - loss: 2.0909e-04\n",
            "Epoch 19/100\n",
            "1550/1550 [==============================] - 0s 49us/step - loss: 2.3168e-04\n",
            "Epoch 20/100\n",
            "1550/1550 [==============================] - 0s 48us/step - loss: 2.1983e-04\n",
            "Epoch 21/100\n",
            "1550/1550 [==============================] - 0s 47us/step - loss: 1.9601e-04\n",
            "Epoch 22/100\n",
            "1550/1550 [==============================] - 0s 46us/step - loss: 1.9881e-04\n",
            "Epoch 23/100\n",
            "1550/1550 [==============================] - 0s 46us/step - loss: 2.0395e-04\n",
            "Epoch 24/100\n",
            "1550/1550 [==============================] - 0s 48us/step - loss: 2.0418e-04\n",
            "Epoch 25/100\n",
            "1550/1550 [==============================] - 0s 47us/step - loss: 2.0455e-04\n",
            "Epoch 26/100\n",
            "1550/1550 [==============================] - 0s 45us/step - loss: 2.0355e-04\n",
            "Epoch 27/100\n",
            "1550/1550 [==============================] - 0s 48us/step - loss: 2.0425e-04\n",
            "Epoch 28/100\n",
            "1550/1550 [==============================] - 0s 48us/step - loss: 2.0396e-04\n",
            "Epoch 29/100\n",
            "1550/1550 [==============================] - 0s 49us/step - loss: 2.0078e-04\n",
            "Epoch 30/100\n",
            "1550/1550 [==============================] - 0s 54us/step - loss: 1.9971e-04\n",
            "Epoch 31/100\n",
            "1550/1550 [==============================] - 0s 48us/step - loss: 1.9947e-04\n",
            "Epoch 32/100\n",
            "1550/1550 [==============================] - 0s 47us/step - loss: 1.9616e-04\n",
            "Epoch 33/100\n",
            "1550/1550 [==============================] - 0s 51us/step - loss: 1.9842e-04\n",
            "Epoch 34/100\n",
            "1550/1550 [==============================] - 0s 49us/step - loss: 2.0037e-04\n",
            "Epoch 35/100\n",
            "1550/1550 [==============================] - 0s 43us/step - loss: 2.1110e-04\n",
            "Epoch 36/100\n",
            "1550/1550 [==============================] - 0s 48us/step - loss: 2.1905e-04\n",
            "Epoch 37/100\n",
            "1550/1550 [==============================] - 0s 50us/step - loss: 2.4510e-04\n",
            "Epoch 38/100\n",
            "1550/1550 [==============================] - 0s 48us/step - loss: 1.9997e-04\n",
            "Epoch 39/100\n",
            "1550/1550 [==============================] - 0s 50us/step - loss: 1.8604e-04\n",
            "Epoch 40/100\n",
            "1550/1550 [==============================] - 0s 46us/step - loss: 2.1633e-04\n",
            "Epoch 41/100\n",
            "1550/1550 [==============================] - 0s 49us/step - loss: 1.8740e-04\n",
            "Epoch 42/100\n",
            "1550/1550 [==============================] - 0s 45us/step - loss: 2.2433e-04\n",
            "Epoch 43/100\n",
            "1550/1550 [==============================] - 0s 46us/step - loss: 1.8639e-04\n",
            "Epoch 44/100\n",
            "1550/1550 [==============================] - 0s 49us/step - loss: 1.8852e-04\n",
            "Epoch 45/100\n",
            "1550/1550 [==============================] - 0s 45us/step - loss: 1.9536e-04\n",
            "Epoch 46/100\n",
            "1550/1550 [==============================] - 0s 47us/step - loss: 2.3484e-04\n",
            "Epoch 47/100\n",
            "1550/1550 [==============================] - 0s 48us/step - loss: 1.8426e-04\n",
            "Epoch 48/100\n",
            "1550/1550 [==============================] - 0s 44us/step - loss: 1.8185e-04\n",
            "Epoch 49/100\n",
            "1550/1550 [==============================] - 0s 49us/step - loss: 1.8221e-04\n",
            "Epoch 50/100\n",
            "1550/1550 [==============================] - 0s 49us/step - loss: 1.8811e-04\n",
            "Epoch 51/100\n",
            "1550/1550 [==============================] - 0s 47us/step - loss: 2.0276e-04\n",
            "Epoch 52/100\n",
            "1550/1550 [==============================] - 0s 45us/step - loss: 1.8493e-04\n",
            "Epoch 53/100\n",
            "1550/1550 [==============================] - 0s 49us/step - loss: 1.7775e-04\n",
            "Epoch 54/100\n",
            "1550/1550 [==============================] - 0s 46us/step - loss: 1.8997e-04\n",
            "Epoch 55/100\n",
            "1550/1550 [==============================] - 0s 45us/step - loss: 1.8494e-04\n",
            "Epoch 56/100\n",
            "1550/1550 [==============================] - 0s 48us/step - loss: 1.7324e-04\n",
            "Epoch 57/100\n",
            "1550/1550 [==============================] - 0s 47us/step - loss: 1.7981e-04\n",
            "Epoch 58/100\n",
            "1550/1550 [==============================] - 0s 44us/step - loss: 1.7866e-04\n",
            "Epoch 59/100\n",
            "1550/1550 [==============================] - 0s 47us/step - loss: 1.8664e-04\n",
            "Epoch 60/100\n",
            "1550/1550 [==============================] - 0s 45us/step - loss: 1.8965e-04\n",
            "Epoch 61/100\n",
            "1550/1550 [==============================] - 0s 46us/step - loss: 1.8157e-04\n",
            "Epoch 62/100\n",
            "1550/1550 [==============================] - 0s 48us/step - loss: 1.9208e-04\n",
            "Epoch 63/100\n",
            "1550/1550 [==============================] - 0s 48us/step - loss: 1.7214e-04\n",
            "Epoch 64/100\n",
            "1550/1550 [==============================] - 0s 46us/step - loss: 1.8888e-04\n",
            "Epoch 65/100\n",
            "1550/1550 [==============================] - 0s 45us/step - loss: 1.9027e-04\n",
            "Epoch 66/100\n",
            "1550/1550 [==============================] - 0s 48us/step - loss: 1.7486e-04\n",
            "Epoch 67/100\n",
            "1550/1550 [==============================] - 0s 48us/step - loss: 1.7424e-04\n",
            "Epoch 68/100\n",
            "1550/1550 [==============================] - 0s 44us/step - loss: 1.7542e-04\n",
            "Epoch 69/100\n",
            "1550/1550 [==============================] - 0s 46us/step - loss: 1.8507e-04\n",
            "Epoch 70/100\n",
            "1550/1550 [==============================] - 0s 46us/step - loss: 1.8074e-04\n",
            "Epoch 71/100\n",
            "1550/1550 [==============================] - 0s 44us/step - loss: 1.6973e-04\n",
            "Epoch 72/100\n",
            "1550/1550 [==============================] - 0s 52us/step - loss: 1.8642e-04\n",
            "Epoch 73/100\n",
            "1550/1550 [==============================] - 0s 48us/step - loss: 1.7783e-04\n",
            "Epoch 74/100\n",
            "1550/1550 [==============================] - 0s 45us/step - loss: 1.7435e-04\n",
            "Epoch 75/100\n",
            "1550/1550 [==============================] - 0s 51us/step - loss: 1.7864e-04\n",
            "Epoch 76/100\n",
            "1550/1550 [==============================] - 0s 64us/step - loss: 1.7215e-04\n",
            "Epoch 77/100\n",
            "1550/1550 [==============================] - 0s 56us/step - loss: 1.7497e-04\n",
            "Epoch 78/100\n",
            "1550/1550 [==============================] - 0s 48us/step - loss: 1.7437e-04\n",
            "Epoch 79/100\n",
            "1550/1550 [==============================] - 0s 44us/step - loss: 1.7734e-04\n",
            "Epoch 80/100\n",
            "1550/1550 [==============================] - 0s 48us/step - loss: 1.7905e-04\n",
            "Epoch 81/100\n",
            "1550/1550 [==============================] - 0s 51us/step - loss: 1.7144e-04\n",
            "Epoch 82/100\n",
            "1550/1550 [==============================] - 0s 43us/step - loss: 1.7539e-04\n",
            "Epoch 83/100\n",
            "1550/1550 [==============================] - 0s 47us/step - loss: 1.7879e-04\n",
            "Epoch 84/100\n",
            "1550/1550 [==============================] - 0s 49us/step - loss: 1.7124e-04\n",
            "Epoch 85/100\n",
            "1550/1550 [==============================] - 0s 46us/step - loss: 1.7133e-04\n",
            "Epoch 86/100\n",
            "1550/1550 [==============================] - 0s 46us/step - loss: 1.6814e-04\n",
            "Epoch 87/100\n",
            "1550/1550 [==============================] - 0s 47us/step - loss: 1.7591e-04\n",
            "Epoch 88/100\n",
            "1550/1550 [==============================] - 0s 47us/step - loss: 1.7149e-04\n",
            "Epoch 89/100\n",
            "1550/1550 [==============================] - 0s 45us/step - loss: 1.6928e-04\n",
            "Epoch 90/100\n",
            "1550/1550 [==============================] - 0s 50us/step - loss: 1.7353e-04\n",
            "Epoch 91/100\n",
            "1550/1550 [==============================] - 0s 44us/step - loss: 1.7153e-04\n",
            "Epoch 92/100\n",
            "1550/1550 [==============================] - 0s 48us/step - loss: 1.6898e-04\n",
            "Epoch 93/100\n",
            "1550/1550 [==============================] - 0s 49us/step - loss: 1.7044e-04\n",
            "Epoch 94/100\n",
            "1550/1550 [==============================] - 0s 47us/step - loss: 1.7133e-04\n",
            "Epoch 95/100\n",
            "1550/1550 [==============================] - 0s 45us/step - loss: 1.7230e-04\n",
            "Epoch 96/100\n",
            "1550/1550 [==============================] - 0s 48us/step - loss: 1.6655e-04\n",
            "Epoch 97/100\n",
            "1550/1550 [==============================] - 0s 47us/step - loss: 1.6693e-04\n",
            "Epoch 98/100\n",
            "1550/1550 [==============================] - 0s 45us/step - loss: 1.7090e-04\n",
            "Epoch 99/100\n",
            "1550/1550 [==============================] - 0s 50us/step - loss: 1.6610e-04\n",
            "Epoch 100/100\n",
            "1550/1550 [==============================] - 0s 48us/step - loss: 1.6873e-04\n"
          ],
          "name": "stdout"
        }
      ]
    },
    {
      "cell_type": "code",
      "metadata": {
        "id": "3R4Awt2RahGt",
        "colab_type": "code",
        "outputId": "02b3891c-99c7-407f-e5b4-b7dfc6fdb16e",
        "colab": {
          "base_uri": "https://localhost:8080/",
          "height": 540
        }
      },
      "source": [
        "import seaborn as sns \n",
        "sns.set()\n",
        "\n",
        "from sklearn.metrics import r2_score\n",
        "import matplotlib.pyplot as plt\n",
        "\n",
        "# Calculate R^2 score\n",
        "train_preds = model_1.predict(scaled_train_features)\n",
        "test_preds = model_1.predict(scaled_test_features)\n",
        "print('Training Score {}'.format(r2_score(train_targets, train_preds)))\n",
        "print('Test Score {}'.format(r2_score(test_targets, test_preds)))\n",
        "\n",
        "# # Plot predictions vs actual\n",
        "plt.scatter(train_preds, train_targets, label='train')\n",
        "plt.scatter(test_preds, test_targets, label='test')\n",
        "plt.legend()\n",
        "plt.show()"
      ],
      "execution_count": 0,
      "outputs": [
        {
          "output_type": "stream",
          "text": [
            "Training Score 0.09762889767758742\n",
            "Test Score -0.010446870213559833\n"
          ],
          "name": "stdout"
        },
        {
          "output_type": "display_data",
          "data": {
            "image/png": "[encoded data removed]",
            "text/plain": [
              "<Figure size 842.4x595.44 with 1 Axes>"
            ]
          },
          "metadata": {
            "tags": []
          }
        }
      ]
    },
    {
      "cell_type": "code",
      "metadata": {
        "id": "IC-EJXRhvUW2",
        "colab_type": "code",
        "outputId": "7ff7fce4-fffd-416b-9779-a7cd093b8c72",
        "colab": {
          "base_uri": "https://localhost:8080/",
          "height": 516
        }
      },
      "source": [
        "import seaborn as sns \n",
        "sns.set()\n",
        "\n",
        "# Plot the losses from the fit\n",
        "plt.plot(history.history['loss'])\n",
        "\n",
        "# Use the last loss as the title\n",
        "plt.title('loss:' + str(round(history.history['loss'][-1], 6)))\n",
        "plt.show()"
      ],
      "execution_count": 0,
      "outputs": [
        {
          "output_type": "display_data",
          "data": {
            "image/png": "[encoded data removed]",
            "text/plain": [
              "<Figure size 842.4x595.44 with 1 Axes>"
            ]
          },
          "metadata": {
            "tags": []
          }
        }
      ]
    },
    {
      "cell_type": "markdown",
      "metadata": {
        "id": "0B_GYGQs9WXF",
        "colab_type": "text"
      },
      "source": [
        "### Neural Net 2 - Custom Loss Function "
      ]
    },
    {
      "cell_type": "code",
      "metadata": {
        "id": "hTIBpKVKyBi1",
        "colab_type": "code",
        "outputId": "ba57fdbe-8832-4f9e-a859-b60744fdd2d6",
        "colab": {
          "base_uri": "https://localhost:8080/",
          "height": 34
        }
      },
      "source": [
        "import keras.losses\n",
        "import tensorflow as tf\n",
        "\n",
        "# Create loss function\n",
        "def sign_penalty(y_true, y_pred):\n",
        "    penalty = 100.\n",
        "    loss = tf.where(tf.less(y_true * y_pred, 0), \\\n",
        "                     penalty * tf.square(y_true - y_pred), \\\n",
        "                     tf.square(y_true - y_pred))\n",
        "\n",
        "    return tf.reduce_mean(loss, axis=-1)\n",
        "\n",
        "keras.losses.sign_penalty = sign_penalty  # enable use of loss with keras\n",
        "print(keras.losses.sign_penalty)"
      ],
      "execution_count": 0,
      "outputs": [
        {
          "output_type": "stream",
          "text": [
            "<function sign_penalty at 0x7fa3d176c2f0>\n"
          ],
          "name": "stdout"
        }
      ]
    },
    {
      "cell_type": "code",
      "metadata": {
        "id": "h_bxKWSWyCXs",
        "colab_type": "code",
        "outputId": "de2eaebb-1947-4789-b16c-38112b1c97d3",
        "colab": {
          "base_uri": "https://localhost:8080/",
          "height": 516
        }
      },
      "source": [
        "# Create the model\n",
        "model_2 = Sequential()\n",
        "model_2.add(Dense(100, input_dim=scaled_train_features.shape[1], activation='relu'))\n",
        "model_2.add(Dense(20, activation='relu'))\n",
        "model_2.add(Dense(1, activation='linear'))\n",
        "\n",
        "# Fit the model with our custom 'sign_penalty' loss function\n",
        "model_2.compile(optimizer='adam', loss=sign_penalty)\n",
        "history = model_2.fit(scaled_train_features, train_targets, epochs=5000, verbose=False)\n",
        "plt.plot(history.history['loss'])\n",
        "plt.title('loss:' + str(round(history.history['loss'][-1], 6)))\n",
        "plt.show()"
      ],
      "execution_count": 0,
      "outputs": [
        {
          "output_type": "display_data",
          "data": {
            "image/png": "[encoded data removed]",
            "text/plain": [
              "<Figure size 842.4x595.44 with 1 Axes>"
            ]
          },
          "metadata": {
            "tags": []
          }
        }
      ]
    },
    {
      "cell_type": "code",
      "metadata": {
        "id": "-iSDouhDyGfN",
        "colab_type": "code",
        "outputId": "d56914e8-fd2e-426e-cdb8-9a12b035635e",
        "colab": {
          "base_uri": "https://localhost:8080/",
          "height": 540
        }
      },
      "source": [
        "# Evaluate R^2 scores\n",
        "train_preds = model_2.predict(scaled_train_features)\n",
        "test_preds = model_2.predict(scaled_test_features)\n",
        "print(r2_score(train_targets, train_preds))\n",
        "print(r2_score(test_targets, test_preds))\n",
        "\n",
        "# Scatter the predictions vs actual -- this one is interesting!\n",
        "plt.scatter(train_preds, train_targets, label='train')\n",
        "plt.scatter(test_preds, test_targets, label='test')  # plot test set\n",
        "plt.legend(); plt.show()"
      ],
      "execution_count": 0,
      "outputs": [
        {
          "output_type": "stream",
          "text": [
            "-0.002144052129296359\n",
            "-0.0010737119094283987\n"
          ],
          "name": "stdout"
        },
        {
          "output_type": "display_data",
          "data": {
            "image/png": "[encoded data removed]",
            "text/plain": [
              "<Figure size 842.4x595.44 with 1 Axes>"
            ]
          },
          "metadata": {
            "tags": []
          }
        }
      ]
    }
  ]
}