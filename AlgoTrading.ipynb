{
  "nbformat": 4,
  "nbformat_minor": 0,
  "metadata": {
    "colab": {
      "name": "AlgoTrading.ipynb",
      "version": "0.3.2",
      "provenance": [],
      "collapsed_sections": [
        "MVI-VlpKj4ye"
      ],
      "toc_visible": true,
      "include_colab_link": true
    },
    "kernelspec": {
      "name": "python3",
      "display_name": "Python 3"
    },
    "accelerator": "GPU"
  },
  "cells": [
    {
      "cell_type": "markdown",
      "metadata": {
        "id": "view-in-github",
        "colab_type": "text"
      },
      "source": [
        "<a href=\"https://colab.research.google.com/github/dieko95/AlgoTrading/blob/develop/AlgoTrading.ipynb\" target=\"_parent\"><img src=\"https://colab.research.google.com/assets/colab-badge.svg\" alt=\"Open In Colab\"/></a>"
      ]
    },
    {
      "cell_type": "markdown",
      "metadata": {
        "id": "BpXsMmTPhssr",
        "colab_type": "text"
      },
      "source": [
        "# AlgoTrading"
      ]
    },
    {
      "cell_type": "markdown",
      "metadata": {
        "id": "MVI-VlpKj4ye",
        "colab_type": "text"
      },
      "source": [
        "## Download Alt Data (Tweets)\n",
        "\n",
        "https://pypi.org/project/GetOldTweets3/\n",
        "\n",
        "\n",
        "\n",
        "```\n",
        "python Exporter.py --query @RedHat --since 2014-01-01 --until 2019-01-15 --maxtweets 5000000\n",
        "```\n",
        "\n"
      ]
    },
    {
      "cell_type": "code",
      "metadata": {
        "id": "R7gvszGpiPfn",
        "colab_type": "code",
        "colab": {}
      },
      "source": [
        "# !pip install GetOldTweets3\n",
        "# !pip install langdetect\n",
        "# !pip install vaderSentiment\n",
        "# !pip install -U -q PyDrive\n",
        "# !pip install -q xlrd\n",
        "\n",
        " "
      ],
      "execution_count": 0,
      "outputs": []
    },
    {
      "cell_type": "code",
      "metadata": {
        "id": "28upphhFp6Vp",
        "colab_type": "code",
        "colab": {}
      },
      "source": [
        "import pandas as pd\n",
        "from pandas import Series, DataFrame\n",
        "import numpy as np \n",
        "from langdetect import detect\n",
        "import time\n"
      ],
      "execution_count": 0,
      "outputs": []
    },
    {
      "cell_type": "code",
      "metadata": {
        "id": "e9EENuzQBLo2",
        "colab_type": "code",
        "outputId": "cf6e07f4-47dc-4bd8-9e7f-c3f53f0da5a5",
        "colab": {
          "base_uri": "https://localhost:8080/",
          "height": 34
        }
      },
      "source": [
        "\n",
        "from pydrive.auth import GoogleAuth\n",
        "from pydrive.drive import GoogleDrive\n",
        "from google.colab import auth\n",
        "from oauth2client.client import GoogleCredentials\n",
        "\n",
        "auth.authenticate_user()\n",
        "gauth = GoogleAuth()\n",
        "gauth.credentials = GoogleCredentials.get_application_default()\n",
        "drive = GoogleDrive(gauth)\n",
        "\n",
        "link = 'https://drive.google.com/open?id=1NSuc3X37Z2r29mxKt92JFs0krF63aNNM'\n",
        "fluff, id = link.split('=')\n",
        "\n",
        "print(id)\n"
      ],
      "execution_count": 6,
      "outputs": [
        {
          "output_type": "stream",
          "text": [
            "1NSuc3X37Z2r29mxKt92JFs0krF63aNNM\n"
          ],
          "name": "stdout"
        }
      ]
    },
    {
      "cell_type": "code",
      "metadata": {
        "id": "kXryZbpSCnm4",
        "colab_type": "code",
        "colab": {}
      },
      "source": [
        "downloaded = drive.CreateFile({'id':id}) \n",
        "downloaded.GetContentFile('Filename.csv')  \n",
        "tweetsDf = pd.read_csv('Filename.csv')"
      ],
      "execution_count": 0,
      "outputs": []
    },
    {
      "cell_type": "code",
      "metadata": {
        "id": "5G-sm6XjB8aQ",
        "colab_type": "code",
        "outputId": "8ed1e7b1-98cb-4bb1-bb9c-a34de4c942d9",
        "colab": {
          "base_uri": "https://localhost:8080/",
          "height": 34
        }
      },
      "source": [
        "tweetsDf.shape"
      ],
      "execution_count": 8,
      "outputs": [
        {
          "output_type": "execute_result",
          "data": {
            "text/plain": [
              "(51603, 10)"
            ]
          },
          "metadata": {
            "tags": []
          },
          "execution_count": 8
        }
      ]
    },
    {
      "cell_type": "markdown",
      "metadata": {
        "id": "qtWuZxpANECj",
        "colab_type": "text"
      },
      "source": [
        "##  Loading Prototype - snippet\n",
        "\n",
        "![alt text](https://cdn-images-1.medium.com/max/800/1*G8yV2iaqqfaGfmRPRem2Fw.png)"
      ]
    },
    {
      "cell_type": "code",
      "metadata": {
        "id": "5z_S_x8dF9cy",
        "colab_type": "code",
        "colab": {
          "resources": {
            "http://localhost:8080/nbextensions/google.colab/files.js": {
              "data": "Ly8gQ29weXJpZ2h0IDIwMTcgR29vZ2xlIExMQwovLwovLyBMaWNlbnNlZCB1bmRlciB0aGUgQXBhY2hlIExpY2Vuc2UsIFZlcnNpb24gMi4wICh0aGUgIkxpY2Vuc2UiKTsKLy8geW91IG1heSBub3QgdXNlIHRoaXMgZmlsZSBleGNlcHQgaW4gY29tcGxpYW5jZSB3aXRoIHRoZSBMaWNlbnNlLgovLyBZb3UgbWF5IG9idGFpbiBhIGNvcHkgb2YgdGhlIExpY2Vuc2UgYXQKLy8KLy8gICAgICBodHRwOi8vd3d3LmFwYWNoZS5vcmcvbGljZW5zZXMvTElDRU5TRS0yLjAKLy8KLy8gVW5sZXNzIHJlcXVpcmVkIGJ5IGFwcGxpY2FibGUgbGF3IG9yIGFncmVlZCB0byBpbiB3cml0aW5nLCBzb2Z0d2FyZQovLyBkaXN0cmlidXRlZCB1bmRlciB0aGUgTGljZW5zZSBpcyBkaXN0cmlidXRlZCBvbiBhbiAiQVMgSVMiIEJBU0lTLAovLyBXSVRIT1VUIFdBUlJBTlRJRVMgT1IgQ09ORElUSU9OUyBPRiBBTlkgS0lORCwgZWl0aGVyIGV4cHJlc3Mgb3IgaW1wbGllZC4KLy8gU2VlIHRoZSBMaWNlbnNlIGZvciB0aGUgc3BlY2lmaWMgbGFuZ3VhZ2UgZ292ZXJuaW5nIHBlcm1pc3Npb25zIGFuZAovLyBsaW1pdGF0aW9ucyB1bmRlciB0aGUgTGljZW5zZS4KCi8qKgogKiBAZmlsZW92ZXJ2aWV3IEhlbHBlcnMgZm9yIGdvb2dsZS5jb2xhYiBQeXRob24gbW9kdWxlLgogKi8KKGZ1bmN0aW9uKHNjb3BlKSB7CmZ1bmN0aW9uIHNwYW4odGV4dCwgc3R5bGVBdHRyaWJ1dGVzID0ge30pIHsKICBjb25zdCBlbGVtZW50ID0gZG9jdW1lbnQuY3JlYXRlRWxlbWVudCgnc3BhbicpOwogIGVsZW1lbnQudGV4dENvbnRlbnQgPSB0ZXh0OwogIGZvciAoY29uc3Qga2V5IG9mIE9iamVjdC5rZXlzKHN0eWxlQXR0cmlidXRlcykpIHsKICAgIGVsZW1lbnQuc3R5bGVba2V5XSA9IHN0eWxlQXR0cmlidXRlc1trZXldOwogIH0KICByZXR1cm4gZWxlbWVudDsKfQoKLy8gTWF4IG51bWJlciBvZiBieXRlcyB3aGljaCB3aWxsIGJlIHVwbG9hZGVkIGF0IGEgdGltZS4KY29uc3QgTUFYX1BBWUxPQURfU0laRSA9IDEwMCAqIDEwMjQ7Ci8vIE1heCBhbW91bnQgb2YgdGltZSB0byBibG9jayB3YWl0aW5nIGZvciB0aGUgdXNlci4KY29uc3QgRklMRV9DSEFOR0VfVElNRU9VVF9NUyA9IDMwICogMTAwMDsKCmZ1bmN0aW9uIF91cGxvYWRGaWxlcyhpbnB1dElkLCBvdXRwdXRJZCkgewogIGNvbnN0IHN0ZXBzID0gdXBsb2FkRmlsZXNTdGVwKGlucHV0SWQsIG91dHB1dElkKTsKICBjb25zdCBvdXRwdXRFbGVtZW50ID0gZG9jdW1lbnQuZ2V0RWxlbWVudEJ5SWQob3V0cHV0SWQpOwogIC8vIENhY2hlIHN0ZXBzIG9uIHRoZSBvdXRwdXRFbGVtZW50IHRvIG1ha2UgaXQgYXZhaWxhYmxlIGZvciB0aGUgbmV4dCBjYWxsCiAgLy8gdG8gdXBsb2FkRmlsZXNDb250aW51ZSBmcm9tIFB5dGhvbi4KICBvdXRwdXRFbGVtZW50LnN0ZXBzID0gc3RlcHM7CgogIHJldHVybiBfdXBsb2FkRmlsZXNDb250aW51ZShvdXRwdXRJZCk7Cn0KCi8vIFRoaXMgaXMgcm91Z2hseSBhbiBhc3luYyBnZW5lcmF0b3IgKG5vdCBzdXBwb3J0ZWQgaW4gdGhlIGJyb3dzZXIgeWV0KSwKLy8gd2hlcmUgdGhlcmUgYXJlIG11bHRpcGxlIGFzeW5jaHJvbm91cyBzdGVwcyBhbmQgdGhlIFB5dGhvbiBzaWRlIGlzIGdvaW5nCi8vIHRvIHBvbGwgZm9yIGNvbXBsZXRpb24gb2YgZWFjaCBzdGVwLgovLyBUaGlzIHVzZXMgYSBQcm9taXNlIHRvIGJsb2NrIHRoZSBweXRob24gc2lkZSBvbiBjb21wbGV0aW9uIG9mIGVhY2ggc3RlcCwKLy8gdGhlbiBwYXNzZXMgdGhlIHJlc3VsdCBvZiB0aGUgcHJldmlvdXMgc3RlcCBhcyB0aGUgaW5wdXQgdG8gdGhlIG5leHQgc3RlcC4KZnVuY3Rpb24gX3VwbG9hZEZpbGVzQ29udGludWUob3V0cHV0SWQpIHsKICBjb25zdCBvdXRwdXRFbGVtZW50ID0gZG9jdW1lbnQuZ2V0RWxlbWVudEJ5SWQob3V0cHV0SWQpOwogIGNvbnN0IHN0ZXBzID0gb3V0cHV0RWxlbWVudC5zdGVwczsKCiAgY29uc3QgbmV4dCA9IHN0ZXBzLm5leHQob3V0cHV0RWxlbWVudC5sYXN0UHJvbWlzZVZhbHVlKTsKICByZXR1cm4gUHJvbWlzZS5yZXNvbHZlKG5leHQudmFsdWUucHJvbWlzZSkudGhlbigodmFsdWUpID0+IHsKICAgIC8vIENhY2hlIHRoZSBsYXN0IHByb21pc2UgdmFsdWUgdG8gbWFrZSBpdCBhdmFpbGFibGUgdG8gdGhlIG5leHQKICAgIC8vIHN0ZXAgb2YgdGhlIGdlbmVyYXRvci4KICAgIG91dHB1dEVsZW1lbnQubGFzdFByb21pc2VWYWx1ZSA9IHZhbHVlOwogICAgcmV0dXJuIG5leHQudmFsdWUucmVzcG9uc2U7CiAgfSk7Cn0KCi8qKgogKiBHZW5lcmF0b3IgZnVuY3Rpb24gd2hpY2ggaXMgY2FsbGVkIGJldHdlZW4gZWFjaCBhc3luYyBzdGVwIG9mIHRoZSB1cGxvYWQKICogcHJvY2Vzcy4KICogQHBhcmFtIHtzdHJpbmd9IGlucHV0SWQgRWxlbWVudCBJRCBvZiB0aGUgaW5wdXQgZmlsZSBwaWNrZXIgZWxlbWVudC4KICogQHBhcmFtIHtzdHJpbmd9IG91dHB1dElkIEVsZW1lbnQgSUQgb2YgdGhlIG91dHB1dCBkaXNwbGF5LgogKiBAcmV0dXJuIHshSXRlcmFibGU8IU9iamVjdD59IEl0ZXJhYmxlIG9mIG5leHQgc3RlcHMuCiAqLwpmdW5jdGlvbiogdXBsb2FkRmlsZXNTdGVwKGlucHV0SWQsIG91dHB1dElkKSB7CiAgY29uc3QgaW5wdXRFbGVtZW50ID0gZG9jdW1lbnQuZ2V0RWxlbWVudEJ5SWQoaW5wdXRJZCk7CiAgaW5wdXRFbGVtZW50LmRpc2FibGVkID0gZmFsc2U7CgogIGNvbnN0IG91dHB1dEVsZW1lbnQgPSBkb2N1bWVudC5nZXRFbGVtZW50QnlJZChvdXRwdXRJZCk7CiAgb3V0cHV0RWxlbWVudC5pbm5lckhUTUwgPSAnJzsKCiAgY29uc3QgcGlja2VkUHJvbWlzZSA9IG5ldyBQcm9taXNlKChyZXNvbHZlKSA9PiB7CiAgICBpbnB1dEVsZW1lbnQuYWRkRXZlbnRMaXN0ZW5lcignY2hhbmdlJywgKGUpID0+IHsKICAgICAgcmVzb2x2ZShlLnRhcmdldC5maWxlcyk7CiAgICB9KTsKICB9KTsKCiAgY29uc3QgY2FuY2VsID0gZG9jdW1lbnQuY3JlYXRlRWxlbWVudCgnYnV0dG9uJyk7CiAgaW5wdXRFbGVtZW50LnBhcmVudEVsZW1lbnQuYXBwZW5kQ2hpbGQoY2FuY2VsKTsKICBjYW5jZWwudGV4dENvbnRlbnQgPSAnQ2FuY2VsIHVwbG9hZCc7CiAgY29uc3QgY2FuY2VsUHJvbWlzZSA9IG5ldyBQcm9taXNlKChyZXNvbHZlKSA9PiB7CiAgICBjYW5jZWwub25jbGljayA9ICgpID0+IHsKICAgICAgcmVzb2x2ZShudWxsKTsKICAgIH07CiAgfSk7CgogIC8vIENhbmNlbCB1cGxvYWQgaWYgdXNlciBoYXNuJ3QgcGlja2VkIGFueXRoaW5nIGluIHRpbWVvdXQuCiAgY29uc3QgdGltZW91dFByb21pc2UgPSBuZXcgUHJvbWlzZSgocmVzb2x2ZSkgPT4gewogICAgc2V0VGltZW91dCgoKSA9PiB7CiAgICAgIHJlc29sdmUobnVsbCk7CiAgICB9LCBGSUxFX0NIQU5HRV9USU1FT1VUX01TKTsKICB9KTsKCiAgLy8gV2FpdCBmb3IgdGhlIHVzZXIgdG8gcGljayB0aGUgZmlsZXMuCiAgY29uc3QgZmlsZXMgPSB5aWVsZCB7CiAgICBwcm9taXNlOiBQcm9taXNlLnJhY2UoW3BpY2tlZFByb21pc2UsIHRpbWVvdXRQcm9taXNlLCBjYW5jZWxQcm9taXNlXSksCiAgICByZXNwb25zZTogewogICAgICBhY3Rpb246ICdzdGFydGluZycsCiAgICB9CiAgfTsKCiAgaWYgKCFmaWxlcykgewogICAgcmV0dXJuIHsKICAgICAgcmVzcG9uc2U6IHsKICAgICAgICBhY3Rpb246ICdjb21wbGV0ZScsCiAgICAgIH0KICAgIH07CiAgfQoKICBjYW5jZWwucmVtb3ZlKCk7CgogIC8vIERpc2FibGUgdGhlIGlucHV0IGVsZW1lbnQgc2luY2UgZnVydGhlciBwaWNrcyBhcmUgbm90IGFsbG93ZWQuCiAgaW5wdXRFbGVtZW50LmRpc2FibGVkID0gdHJ1ZTsKCiAgZm9yIChjb25zdCBmaWxlIG9mIGZpbGVzKSB7CiAgICBjb25zdCBsaSA9IGRvY3VtZW50LmNyZWF0ZUVsZW1lbnQoJ2xpJyk7CiAgICBsaS5hcHBlbmQoc3BhbihmaWxlLm5hbWUsIHtmb250V2VpZ2h0OiAnYm9sZCd9KSk7CiAgICBsaS5hcHBlbmQoc3BhbigKICAgICAgICBgKCR7ZmlsZS50eXBlIHx8ICduL2EnfSkgLSAke2ZpbGUuc2l6ZX0gYnl0ZXMsIGAgKwogICAgICAgIGBsYXN0IG1vZGlmaWVkOiAkewogICAgICAgICAgICBmaWxlLmxhc3RNb2RpZmllZERhdGUgPyBmaWxlLmxhc3RNb2RpZmllZERhdGUudG9Mb2NhbGVEYXRlU3RyaW5nKCkgOgogICAgICAgICAgICAgICAgICAgICAgICAgICAgICAgICAgICAnbi9hJ30gLSBgKSk7CiAgICBjb25zdCBwZXJjZW50ID0gc3BhbignMCUgZG9uZScpOwogICAgbGkuYXBwZW5kQ2hpbGQocGVyY2VudCk7CgogICAgb3V0cHV0RWxlbWVudC5hcHBlbmRDaGlsZChsaSk7CgogICAgY29uc3QgZmlsZURhdGFQcm9taXNlID0gbmV3IFByb21pc2UoKHJlc29sdmUpID0+IHsKICAgICAgY29uc3QgcmVhZGVyID0gbmV3IEZpbGVSZWFkZXIoKTsKICAgICAgcmVhZGVyLm9ubG9hZCA9IChlKSA9PiB7CiAgICAgICAgcmVzb2x2ZShlLnRhcmdldC5yZXN1bHQpOwogICAgICB9OwogICAgICByZWFkZXIucmVhZEFzQXJyYXlCdWZmZXIoZmlsZSk7CiAgICB9KTsKICAgIC8vIFdhaXQgZm9yIHRoZSBkYXRhIHRvIGJlIHJlYWR5LgogICAgbGV0IGZpbGVEYXRhID0geWllbGQgewogICAgICBwcm9taXNlOiBmaWxlRGF0YVByb21pc2UsCiAgICAgIHJlc3BvbnNlOiB7CiAgICAgICAgYWN0aW9uOiAnY29udGludWUnLAogICAgICB9CiAgICB9OwoKICAgIC8vIFVzZSBhIGNodW5rZWQgc2VuZGluZyB0byBhdm9pZCBtZXNzYWdlIHNpemUgbGltaXRzLiBTZWUgYi82MjExNTY2MC4KICAgIGxldCBwb3NpdGlvbiA9IDA7CiAgICB3aGlsZSAocG9zaXRpb24gPCBmaWxlRGF0YS5ieXRlTGVuZ3RoKSB7CiAgICAgIGNvbnN0IGxlbmd0aCA9IE1hdGgubWluKGZpbGVEYXRhLmJ5dGVMZW5ndGggLSBwb3NpdGlvbiwgTUFYX1BBWUxPQURfU0laRSk7CiAgICAgIGNvbnN0IGNodW5rID0gbmV3IFVpbnQ4QXJyYXkoZmlsZURhdGEsIHBvc2l0aW9uLCBsZW5ndGgpOwogICAgICBwb3NpdGlvbiArPSBsZW5ndGg7CgogICAgICBjb25zdCBiYXNlNjQgPSBidG9hKFN0cmluZy5mcm9tQ2hhckNvZGUuYXBwbHkobnVsbCwgY2h1bmspKTsKICAgICAgeWllbGQgewogICAgICAgIHJlc3BvbnNlOiB7CiAgICAgICAgICBhY3Rpb246ICdhcHBlbmQnLAogICAgICAgICAgZmlsZTogZmlsZS5uYW1lLAogICAgICAgICAgZGF0YTogYmFzZTY0LAogICAgICAgIH0sCiAgICAgIH07CiAgICAgIHBlcmNlbnQudGV4dENvbnRlbnQgPQogICAgICAgICAgYCR7TWF0aC5yb3VuZCgocG9zaXRpb24gLyBmaWxlRGF0YS5ieXRlTGVuZ3RoKSAqIDEwMCl9JSBkb25lYDsKICAgIH0KICB9CgogIC8vIEFsbCBkb25lLgogIHlpZWxkIHsKICAgIHJlc3BvbnNlOiB7CiAgICAgIGFjdGlvbjogJ2NvbXBsZXRlJywKICAgIH0KICB9Owp9CgpzY29wZS5nb29nbGUgPSBzY29wZS5nb29nbGUgfHwge307CnNjb3BlLmdvb2dsZS5jb2xhYiA9IHNjb3BlLmdvb2dsZS5jb2xhYiB8fCB7fTsKc2NvcGUuZ29vZ2xlLmNvbGFiLl9maWxlcyA9IHsKICBfdXBsb2FkRmlsZXMsCiAgX3VwbG9hZEZpbGVzQ29udGludWUsCn07Cn0pKHNlbGYpOwo=",
              "ok": true,
              "headers": [
                [
                  "content-type",
                  "application/javascript"
                ]
              ],
              "status": 200,
              "status_text": ""
            }
          },
          "base_uri": "https://localhost:8080/",
          "height": 91
        },
        "outputId": "0ebede20-ed0d-449d-9bd7-ac79742143b9"
      },
      "source": [
        "from google.colab import files\n",
        "\n",
        "uploaded = files.upload()\n",
        "\n",
        "for fn in uploaded.keys():\n",
        "  print('User uploaded file \"{name}\" with length {length} bytes'.format(\n",
        "      name=fn, length=len(uploaded[fn])))"
      ],
      "execution_count": 22,
      "outputs": [
        {
          "output_type": "display_data",
          "data": {
            "text/html": [
              "\n",
              "     <input type=\"file\" id=\"files-f14728ea-af3a-4b5c-b229-ecd5320ca369\" name=\"files[]\" multiple disabled />\n",
              "     <output id=\"result-f14728ea-af3a-4b5c-b229-ecd5320ca369\">\n",
              "      Upload widget is only available when the cell has been executed in the\n",
              "      current browser session. Please rerun this cell to enable.\n",
              "      </output>\n",
              "      <script src=\"/nbextensions/google.colab/files.js\"></script> "
            ],
            "text/plain": [
              "<IPython.core.display.HTML object>"
            ]
          },
          "metadata": {
            "tags": []
          }
        },
        {
          "output_type": "stream",
          "text": [
            "Saving aggDfDay_v0.1.csv to aggDfDay_v0.1.csv\n",
            "User uploaded file \"aggDfDay_v0.1.csv\" with length 102638 bytes\n"
          ],
          "name": "stdout"
        }
      ]
    },
    {
      "cell_type": "code",
      "metadata": {
        "id": "fd7Rg4ybf1Fn",
        "colab_type": "code",
        "colab": {}
      },
      "source": [
        "# tweetsDf = pd.read_csv('redhatprototype.csv')\n",
        "aggTweetsDay = pd.read_csv('aggDfDay_v0.1.csv')"
      ],
      "execution_count": 0,
      "outputs": []
    },
    {
      "cell_type": "markdown",
      "metadata": {
        "id": "LSmHIhx1Qqvv",
        "colab_type": "text"
      },
      "source": [
        "## First Cleaning Iteration"
      ]
    },
    {
      "cell_type": "code",
      "metadata": {
        "id": "XtdgcVUtQtbI",
        "colab_type": "code",
        "outputId": "5bbdfcef-8b0b-4e64-e457-e0c4f6ac4422",
        "colab": {
          "base_uri": "https://localhost:8080/",
          "height": 51
        }
      },
      "source": [
        "# Erasing Short Tweets\n",
        "\n",
        "start_time = time.time()\n",
        "\n",
        "tweetsDf.text = tweetsDf.text.apply(lambda x: len(str(x).split()) < 3 and np.nan or x) #If the tweet is less than 7 characters create a NA place Holder \n",
        "\n",
        "\n",
        "# Erasing Misc Characters \n",
        "\n",
        "tweetsDf.text = tweetsDf.text.replace(r'@\\w*', '', regex = True) # Erases all usernames (word preceding @)\n",
        "tweetsDf.text = tweetsDf.text.replace(r'#\\w*', '', regex = True) # Erases hashtags\n",
        "tweetsDf.text = tweetsDf.text.replace(r'https://.+', '', regex = True) # Erases URLS\n",
        "\n",
        "print(\"Middle of program--- %s seconds ---\" % (time.time() - start_time))\n",
        "\n",
        "tweetsDf.text = tweetsDf.text.replace(r'http://.+', '', regex = True) # Erases URLS\n",
        "tweetsDf.text = tweetsDf.text.replace(r'=>', '', regex = True) # Erases =>\n",
        "tweetsDf.text = tweetsDf.text.replace(r'[$-/:-?{-~\"^_`\\[\\]]', '', regex = True) #Replace weird characters\n",
        "tweetsDf.text = tweetsDf.text.apply(lambda x: len(str(x).split()) < 3 and np.nan or x) #If the tweet is less than 3 characters create a NA place Holder \n",
        "\n",
        "\n",
        "\n",
        "tweetsDf = tweetsDf.dropna(subset=['text'])\n",
        "\n",
        "\n",
        "# Erasing Non English Tweets \n",
        "\n",
        "print(\"Before detect --- %s seconds ---\" % (time.time() - start_time))\n",
        "\n",
        "\n",
        "tweetsDf.text = tweetsDf.text.apply(lambda x: detect(str(x)) != 'en' and np.nan or x) # Creates NA place holder for text that is not in english \n",
        "\n",
        "tweetsDf = tweetsDf.dropna(subset=['text'])\n",
        "\n",
        "\n",
        "\n",
        "print(\"--- %s seconds ---\" % (time.time() - start_time))\n"
      ],
      "execution_count": 0,
      "outputs": [
        {
          "output_type": "stream",
          "text": [
            "Middle of program--- 0.25501370429992676 seconds ---\n",
            "--- 276.7730143070221 seconds ---\n"
          ],
          "name": "stdout"
        }
      ]
    },
    {
      "cell_type": "code",
      "metadata": {
        "id": "IwxUzzdEHSr0",
        "colab_type": "code",
        "outputId": "112ed7b8-cc9d-42cd-a003-4b782bc71185",
        "colab": {
          "base_uri": "https://localhost:8080/",
          "height": 204
        }
      },
      "source": [
        "# Tweets that were deleted - 110 for RHT \n",
        "print(tweetsDf.describe(), '\\n','\\n'\n",
        "     'Tweets Without Info: ', tweetsDf.shape[0] - tweetsDf.text.dropna().shape[0])\n",
        "\n",
        "tweetsDf = tweetsDf.dropna(subset=['text'])\n",
        "tweetsDf.shape"
      ],
      "execution_count": 0,
      "outputs": [
        {
          "output_type": "stream",
          "text": [
            "           retweets     favorites\n",
            "count  51603.000000  51603.000000\n",
            "mean       2.851714      4.312811\n",
            "std       18.691312     20.509410\n",
            "min        0.000000      0.000000\n",
            "25%        0.000000      0.000000\n",
            "50%        0.000000      1.000000\n",
            "75%        3.000000      4.000000\n",
            "max     2877.000000   2330.000000 \n",
            " \n",
            "Tweets Without Info:  110\n"
          ],
          "name": "stdout"
        }
      ]
    },
    {
      "cell_type": "code",
      "metadata": {
        "id": "0jKOEhc2f8S0",
        "colab_type": "code",
        "colab": {}
      },
      "source": [
        "start_time = time.time()\n",
        "\n",
        "from vaderSentiment.vaderSentiment import SentimentIntensityAnalyzer\n",
        "\n",
        "\n",
        "analyzer = SentimentIntensityAnalyzer()\n",
        "\n",
        "tweet = []\n",
        "number_favourites = []\n",
        "retweets = []\n",
        "vs_compound = []\n",
        "vs_pos = []\n",
        "vs_neu = []\n",
        "vs_neg = []\n",
        "timeStamp = []\n",
        "\n",
        "\n",
        "for i in range(tweetsDf.shape[0]):\n",
        "    tweet.append(tweetsDf.iloc[i,4])\n",
        "    number_favourites.append(tweetsDf.iloc[i,3])\n",
        "    retweets.append(tweetsDf.iloc[i,2])\n",
        "    timeStamp.append(tweetsDf.iloc[i,1])\n",
        "    vs_compound.append(analyzer.polarity_scores(tweetsDf.iloc[i,4])['compound'])\n",
        "    vs_pos.append(analyzer.polarity_scores(tweetsDf.iloc[i,4])['pos'])\n",
        "    vs_neu.append(analyzer.polarity_scores(tweetsDf.iloc[i,4])['neu'])\n",
        "    vs_neg.append(analyzer.polarity_scores(tweetsDf.iloc[i,4])['neg'])\n",
        "    \n",
        "    \n",
        "print(\"--- %s seconds ---\" % (time.time() - start_time))"
      ],
      "execution_count": 0,
      "outputs": []
    },
    {
      "cell_type": "code",
      "metadata": {
        "id": "Tc2yD4cXfuvY",
        "colab_type": "code",
        "outputId": "c6c0cd1a-6ec8-4dc3-ec4d-2c4a00277ba6",
        "colab": {
          "base_uri": "https://localhost:8080/",
          "height": 34
        }
      },
      "source": [
        "\n",
        "twitterDf = DataFrame({'Tweet': tweet,\n",
        "                        'Favourites': number_favourites,\n",
        "                        'retweets' : retweets,\n",
        "                        'timeStamp' : timeStamp,\n",
        "                        'Compound': vs_compound,\n",
        "                        'Positive': vs_pos,\n",
        "                        'Neutral': vs_neu,\n",
        "                        'Negative': vs_neg})\n",
        "twitterDf = twitterDf[['timeStamp','Tweet', 'Favourites', 'retweets','Compound',\n",
        "                         'Positive', 'Neutral', 'Negative']]\n",
        "\n",
        "twitterDf.shape"
      ],
      "execution_count": 0,
      "outputs": [
        {
          "output_type": "execute_result",
          "data": {
            "text/plain": [
              "(44801, 8)"
            ]
          },
          "metadata": {
            "tags": []
          },
          "execution_count": 194
        }
      ]
    },
    {
      "cell_type": "code",
      "metadata": {
        "id": "xRssJlv_hbK0",
        "colab_type": "code",
        "colab": {}
      },
      "source": [
        "from google.colab import files\n",
        "\n",
        "twitterDf.to_csv('cleanedTwitter_v0.1.csv')\n",
        "files.download('cleanedTwitter_v0.1.csv')"
      ],
      "execution_count": 0,
      "outputs": []
    },
    {
      "cell_type": "markdown",
      "metadata": {
        "id": "4W1ubXO1S8UA",
        "colab_type": "text"
      },
      "source": [
        "## Aggregating By Day - Tweets"
      ]
    },
    {
      "cell_type": "code",
      "metadata": {
        "id": "Gjw8Nh1ioYOc",
        "colab_type": "code",
        "colab": {}
      },
      "source": [
        "aggDf = twitterDf.drop(columns = 'Tweet')\n",
        "aggDf.timeStamp = pd.to_datetime(aggDf.timeStamp) \n",
        "aggDf.set_index(aggDf[\"timeStamp\"],inplace=True)\n",
        "aggDfDay = aggDf.resample('D').sum()\n",
        "\n",
        "# aggDfDay.Compound.value_counts()\n",
        "\n",
        "aggDfDay"
      ],
      "execution_count": 0,
      "outputs": []
    },
    {
      "cell_type": "code",
      "metadata": {
        "id": "tWzs6ySdhMFp",
        "colab_type": "code",
        "colab": {}
      },
      "source": [
        "from google.colab import files\n",
        "\n",
        "aggDfDay.to_csv('aggDfDay_v0.1.csv')\n",
        "files.download('aggDfDay_v0.1.csv')"
      ],
      "execution_count": 0,
      "outputs": []
    },
    {
      "cell_type": "markdown",
      "metadata": {
        "id": "1cLrA3eZR1vs",
        "colab_type": "text"
      },
      "source": [
        "### Index for tweets loaded from Local System"
      ]
    },
    {
      "cell_type": "code",
      "metadata": {
        "id": "OEpSkPSqTNjR",
        "colab_type": "code",
        "colab": {
          "base_uri": "https://localhost:8080/",
          "height": 51
        },
        "outputId": "eb69cfb4-f758-47ee-ccf6-9347f15eb3d6"
      },
      "source": [
        "# \n",
        "print(aggTweetsDay.shape,aggFundDfDay.shape)\n",
        "\n",
        "aggTweetsDay = aggTweetsDay.iloc[1:1826,:]\n",
        "\n",
        "print(aggTweetsDay.shape,aggFundDfDay.shape)"
      ],
      "execution_count": 66,
      "outputs": [
        {
          "output_type": "stream",
          "text": [
            "(1841, 7) (1825, 21)\n",
            "(1825, 7) (1825, 21)\n"
          ],
          "name": "stdout"
        }
      ]
    },
    {
      "cell_type": "code",
      "metadata": {
        "id": "jkY7qXr7R6iO",
        "colab_type": "code",
        "colab": {}
      },
      "source": [
        "aggTweetsDay.timeStamp = pd.to_datetime(aggTweetsDay.timeStamp) \n",
        "aggTweetsDay.set_index(aggTweetsDay[\"timeStamp\"],inplace=True)"
      ],
      "execution_count": 0,
      "outputs": []
    },
    {
      "cell_type": "markdown",
      "metadata": {
        "id": "ipKw77OsMQe9",
        "colab_type": "text"
      },
      "source": [
        "## Loading Price and Fundamentals \n"
      ]
    },
    {
      "cell_type": "code",
      "metadata": {
        "id": "1T2elm2ZMP8W",
        "colab_type": "code",
        "colab": {}
      },
      "source": [
        "\n",
        "file_id = '1P-479AOJBUh1gAcTuxhGtsZHr_17nYV5'\n",
        "downloaded = drive.CreateFile({'id': file_id})\n",
        "downloaded.GetContentFile('exported.xlsx')"
      ],
      "execution_count": 0,
      "outputs": []
    },
    {
      "cell_type": "code",
      "metadata": {
        "id": "3ch-z8gZMPDj",
        "colab_type": "code",
        "colab": {
          "base_uri": "https://localhost:8080/",
          "height": 309
        },
        "outputId": "adfe091f-97c4-47df-c5e0-56f100382b86"
      },
      "source": [
        "import pandas as pd\n",
        "fundData = pd.read_excel('exported.xlsx')\n",
        "fundData.head()"
      ],
      "execution_count": 76,
      "outputs": [
        {
          "output_type": "execute_result",
          "data": {
            "text/html": [
              "<div>\n",
              "<style scoped>\n",
              "    .dataframe tbody tr th:only-of-type {\n",
              "        vertical-align: middle;\n",
              "    }\n",
              "\n",
              "    .dataframe tbody tr th {\n",
              "        vertical-align: top;\n",
              "    }\n",
              "\n",
              "    .dataframe thead th {\n",
              "        text-align: right;\n",
              "    }\n",
              "</style>\n",
              "<table border=\"1\" class=\"dataframe\">\n",
              "  <thead>\n",
              "    <tr style=\"text-align: right;\">\n",
              "      <th></th>\n",
              "      <th>timeStamp</th>\n",
              "      <th>Open</th>\n",
              "      <th>High</th>\n",
              "      <th>Low</th>\n",
              "      <th>Close</th>\n",
              "      <th>Adj Close</th>\n",
              "      <th>Volume</th>\n",
              "      <th>MA50</th>\n",
              "      <th>MA200</th>\n",
              "      <th>Adj Close t</th>\n",
              "      <th>Adj Close t+1</th>\n",
              "      <th>Return</th>\n",
              "      <th>Diluted EPS from Continuing Operations</th>\n",
              "      <th>EBIT Margin</th>\n",
              "      <th>EBITDA Margin</th>\n",
              "      <th>Revenue % Growth</th>\n",
              "      <th>EBITDA % Growth</th>\n",
              "      <th>EBIT % Growth</th>\n",
              "      <th>Net Income from Continuing Operations Sequential % Growth</th>\n",
              "      <th>Net Debt to Equity</th>\n",
              "    </tr>\n",
              "  </thead>\n",
              "  <tbody>\n",
              "    <tr>\n",
              "      <th>0</th>\n",
              "      <td>2014-01-02</td>\n",
              "      <td>55.950001</td>\n",
              "      <td>56.000000</td>\n",
              "      <td>55.389999</td>\n",
              "      <td>55.830002</td>\n",
              "      <td>55.830002</td>\n",
              "      <td>1122500</td>\n",
              "      <td>NaN</td>\n",
              "      <td>NaN</td>\n",
              "      <td>55.830002</td>\n",
              "      <td>55.779999</td>\n",
              "      <td>-0.000896</td>\n",
              "      <td>0.22</td>\n",
              "      <td>0.1451</td>\n",
              "      <td>0.1956</td>\n",
              "      <td>0.1713</td>\n",
              "      <td>0.1072</td>\n",
              "      <td>0.0437</td>\n",
              "      <td>0.2361</td>\n",
              "      <td>-0.5785</td>\n",
              "    </tr>\n",
              "    <tr>\n",
              "      <th>1</th>\n",
              "      <td>2014-01-03</td>\n",
              "      <td>55.900002</td>\n",
              "      <td>56.240002</td>\n",
              "      <td>55.450001</td>\n",
              "      <td>55.779999</td>\n",
              "      <td>55.779999</td>\n",
              "      <td>1103500</td>\n",
              "      <td>NaN</td>\n",
              "      <td>NaN</td>\n",
              "      <td>55.779999</td>\n",
              "      <td>56.340000</td>\n",
              "      <td>0.010039</td>\n",
              "      <td>0.22</td>\n",
              "      <td>0.1451</td>\n",
              "      <td>0.1956</td>\n",
              "      <td>0.1713</td>\n",
              "      <td>0.1072</td>\n",
              "      <td>0.0437</td>\n",
              "      <td>0.2361</td>\n",
              "      <td>-0.5785</td>\n",
              "    </tr>\n",
              "    <tr>\n",
              "      <th>2</th>\n",
              "      <td>2014-01-06</td>\n",
              "      <td>56.180000</td>\n",
              "      <td>56.709999</td>\n",
              "      <td>55.930000</td>\n",
              "      <td>56.340000</td>\n",
              "      <td>56.340000</td>\n",
              "      <td>2028100</td>\n",
              "      <td>NaN</td>\n",
              "      <td>NaN</td>\n",
              "      <td>56.340000</td>\n",
              "      <td>57.419998</td>\n",
              "      <td>0.019169</td>\n",
              "      <td>0.22</td>\n",
              "      <td>0.1451</td>\n",
              "      <td>0.1956</td>\n",
              "      <td>0.1713</td>\n",
              "      <td>0.1072</td>\n",
              "      <td>0.0437</td>\n",
              "      <td>0.2361</td>\n",
              "      <td>-0.5785</td>\n",
              "    </tr>\n",
              "    <tr>\n",
              "      <th>3</th>\n",
              "      <td>2014-01-07</td>\n",
              "      <td>56.610001</td>\n",
              "      <td>57.599998</td>\n",
              "      <td>56.400002</td>\n",
              "      <td>57.419998</td>\n",
              "      <td>57.419998</td>\n",
              "      <td>1834100</td>\n",
              "      <td>NaN</td>\n",
              "      <td>NaN</td>\n",
              "      <td>57.419998</td>\n",
              "      <td>56.990002</td>\n",
              "      <td>-0.007489</td>\n",
              "      <td>0.22</td>\n",
              "      <td>0.1451</td>\n",
              "      <td>0.1956</td>\n",
              "      <td>0.1713</td>\n",
              "      <td>0.1072</td>\n",
              "      <td>0.0437</td>\n",
              "      <td>0.2361</td>\n",
              "      <td>-0.5785</td>\n",
              "    </tr>\n",
              "    <tr>\n",
              "      <th>4</th>\n",
              "      <td>2014-01-08</td>\n",
              "      <td>57.230000</td>\n",
              "      <td>57.389999</td>\n",
              "      <td>56.750000</td>\n",
              "      <td>56.990002</td>\n",
              "      <td>56.990002</td>\n",
              "      <td>1686600</td>\n",
              "      <td>NaN</td>\n",
              "      <td>NaN</td>\n",
              "      <td>56.990002</td>\n",
              "      <td>57.290001</td>\n",
              "      <td>0.005264</td>\n",
              "      <td>0.22</td>\n",
              "      <td>0.1451</td>\n",
              "      <td>0.1956</td>\n",
              "      <td>0.1713</td>\n",
              "      <td>0.1072</td>\n",
              "      <td>0.0437</td>\n",
              "      <td>0.2361</td>\n",
              "      <td>-0.5785</td>\n",
              "    </tr>\n",
              "  </tbody>\n",
              "</table>\n",
              "</div>"
            ],
            "text/plain": [
              "   timeStamp  ...  Net Debt to Equity\n",
              "0 2014-01-02  ...             -0.5785\n",
              "1 2014-01-03  ...             -0.5785\n",
              "2 2014-01-06  ...             -0.5785\n",
              "3 2014-01-07  ...             -0.5785\n",
              "4 2014-01-08  ...             -0.5785\n",
              "\n",
              "[5 rows x 20 columns]"
            ]
          },
          "metadata": {
            "tags": []
          },
          "execution_count": 76
        }
      ]
    },
    {
      "cell_type": "code",
      "metadata": {
        "id": "7FQemgcUNjPZ",
        "colab_type": "code",
        "colab": {}
      },
      "source": [
        ""
      ],
      "execution_count": 0,
      "outputs": []
    },
    {
      "cell_type": "markdown",
      "metadata": {
        "id": "udYamDxzNG7p",
        "colab_type": "text"
      },
      "source": [
        "### Aggregate by Day"
      ]
    },
    {
      "cell_type": "code",
      "metadata": {
        "id": "XlUheYegNBlQ",
        "colab_type": "code",
        "colab": {
          "base_uri": "https://localhost:8080/",
          "height": 51
        },
        "outputId": "cf896189-2238-497e-b6c9-630a72eb4f9c"
      },
      "source": [
        "print('Before Agg',aggFundDf.shape)\n",
        "aggFundDf = fundData\n",
        "aggFundDf.timeStamp = pd.to_datetime(aggFundDf.timeStamp) \n",
        "aggFundDf.set_index(aggFundDf[\"timeStamp\"],inplace=True)\n",
        "aggFundDfDay = aggFundDf.resample('D').sum()\n",
        "print('After Agg',aggFundDf.shape)"
      ],
      "execution_count": 77,
      "outputs": [
        {
          "output_type": "stream",
          "text": [
            "Before Agg (1258, 22)\n",
            "After Agg (1258, 20)\n"
          ],
          "name": "stdout"
        }
      ]
    },
    {
      "cell_type": "markdown",
      "metadata": {
        "id": "IUe4KpDDQ3oE",
        "colab_type": "text"
      },
      "source": [
        "## Inner Join tables"
      ]
    },
    {
      "cell_type": "code",
      "metadata": {
        "id": "t2a4sf71Q2wT",
        "colab_type": "code",
        "colab": {
          "base_uri": "https://localhost:8080/",
          "height": 340
        },
        "outputId": "ef15e483-9857-4348-bddc-93cd04202b06"
      },
      "source": [
        "finalDf = aggFundDfDay.join(aggTweetsDay,'timeStamp')\n",
        "finalDf.head()"
      ],
      "execution_count": 78,
      "outputs": [
        {
          "output_type": "execute_result",
          "data": {
            "text/html": [
              "<div>\n",
              "<style scoped>\n",
              "    .dataframe tbody tr th:only-of-type {\n",
              "        vertical-align: middle;\n",
              "    }\n",
              "\n",
              "    .dataframe tbody tr th {\n",
              "        vertical-align: top;\n",
              "    }\n",
              "\n",
              "    .dataframe thead th {\n",
              "        text-align: right;\n",
              "    }\n",
              "</style>\n",
              "<table border=\"1\" class=\"dataframe\">\n",
              "  <thead>\n",
              "    <tr style=\"text-align: right;\">\n",
              "      <th></th>\n",
              "      <th>Open</th>\n",
              "      <th>High</th>\n",
              "      <th>Low</th>\n",
              "      <th>Close</th>\n",
              "      <th>Adj Close</th>\n",
              "      <th>Volume</th>\n",
              "      <th>MA50</th>\n",
              "      <th>MA200</th>\n",
              "      <th>Adj Close t</th>\n",
              "      <th>Adj Close t+1</th>\n",
              "      <th>Return</th>\n",
              "      <th>Diluted EPS from Continuing Operations</th>\n",
              "      <th>EBIT Margin</th>\n",
              "      <th>EBITDA Margin</th>\n",
              "      <th>Revenue % Growth</th>\n",
              "      <th>EBITDA % Growth</th>\n",
              "      <th>EBIT % Growth</th>\n",
              "      <th>Net Income from Continuing Operations Sequential % Growth</th>\n",
              "      <th>Net Debt to Equity</th>\n",
              "      <th>timeStamp</th>\n",
              "      <th>Favourites</th>\n",
              "      <th>retweets</th>\n",
              "      <th>Compound</th>\n",
              "      <th>Positive</th>\n",
              "      <th>Neutral</th>\n",
              "      <th>Negative</th>\n",
              "    </tr>\n",
              "    <tr>\n",
              "      <th>timeStamp</th>\n",
              "      <th></th>\n",
              "      <th></th>\n",
              "      <th></th>\n",
              "      <th></th>\n",
              "      <th></th>\n",
              "      <th></th>\n",
              "      <th></th>\n",
              "      <th></th>\n",
              "      <th></th>\n",
              "      <th></th>\n",
              "      <th></th>\n",
              "      <th></th>\n",
              "      <th></th>\n",
              "      <th></th>\n",
              "      <th></th>\n",
              "      <th></th>\n",
              "      <th></th>\n",
              "      <th></th>\n",
              "      <th></th>\n",
              "      <th></th>\n",
              "      <th></th>\n",
              "      <th></th>\n",
              "      <th></th>\n",
              "      <th></th>\n",
              "      <th></th>\n",
              "      <th></th>\n",
              "    </tr>\n",
              "  </thead>\n",
              "  <tbody>\n",
              "    <tr>\n",
              "      <th>2014-01-02</th>\n",
              "      <td>55.950001</td>\n",
              "      <td>56.000000</td>\n",
              "      <td>55.389999</td>\n",
              "      <td>55.830002</td>\n",
              "      <td>55.830002</td>\n",
              "      <td>1122500</td>\n",
              "      <td>0.0</td>\n",
              "      <td>0.0</td>\n",
              "      <td>55.830002</td>\n",
              "      <td>55.779999</td>\n",
              "      <td>-0.000896</td>\n",
              "      <td>0.22</td>\n",
              "      <td>0.1451</td>\n",
              "      <td>0.1956</td>\n",
              "      <td>0.1713</td>\n",
              "      <td>0.1072</td>\n",
              "      <td>0.0437</td>\n",
              "      <td>0.2361</td>\n",
              "      <td>-0.5785</td>\n",
              "      <td>2014-01-02</td>\n",
              "      <td>21.0</td>\n",
              "      <td>38.0</td>\n",
              "      <td>1.1823</td>\n",
              "      <td>1.203</td>\n",
              "      <td>3.797</td>\n",
              "      <td>0.000</td>\n",
              "    </tr>\n",
              "    <tr>\n",
              "      <th>2014-01-03</th>\n",
              "      <td>55.900002</td>\n",
              "      <td>56.240002</td>\n",
              "      <td>55.450001</td>\n",
              "      <td>55.779999</td>\n",
              "      <td>55.779999</td>\n",
              "      <td>1103500</td>\n",
              "      <td>0.0</td>\n",
              "      <td>0.0</td>\n",
              "      <td>55.779999</td>\n",
              "      <td>56.340000</td>\n",
              "      <td>0.010039</td>\n",
              "      <td>0.22</td>\n",
              "      <td>0.1451</td>\n",
              "      <td>0.1956</td>\n",
              "      <td>0.1713</td>\n",
              "      <td>0.1072</td>\n",
              "      <td>0.0437</td>\n",
              "      <td>0.2361</td>\n",
              "      <td>-0.5785</td>\n",
              "      <td>2014-01-03</td>\n",
              "      <td>16.0</td>\n",
              "      <td>45.0</td>\n",
              "      <td>0.9725</td>\n",
              "      <td>0.624</td>\n",
              "      <td>5.233</td>\n",
              "      <td>0.143</td>\n",
              "    </tr>\n",
              "    <tr>\n",
              "      <th>2014-01-04</th>\n",
              "      <td>0.000000</td>\n",
              "      <td>0.000000</td>\n",
              "      <td>0.000000</td>\n",
              "      <td>0.000000</td>\n",
              "      <td>0.000000</td>\n",
              "      <td>0</td>\n",
              "      <td>0.0</td>\n",
              "      <td>0.0</td>\n",
              "      <td>0.000000</td>\n",
              "      <td>0.000000</td>\n",
              "      <td>0.000000</td>\n",
              "      <td>0.00</td>\n",
              "      <td>0.0000</td>\n",
              "      <td>0.0000</td>\n",
              "      <td>0.0000</td>\n",
              "      <td>0.0000</td>\n",
              "      <td>0.0000</td>\n",
              "      <td>0.0000</td>\n",
              "      <td>0.0000</td>\n",
              "      <td>2014-01-04</td>\n",
              "      <td>15.0</td>\n",
              "      <td>48.0</td>\n",
              "      <td>0.8392</td>\n",
              "      <td>0.628</td>\n",
              "      <td>3.372</td>\n",
              "      <td>0.000</td>\n",
              "    </tr>\n",
              "    <tr>\n",
              "      <th>2014-01-05</th>\n",
              "      <td>0.000000</td>\n",
              "      <td>0.000000</td>\n",
              "      <td>0.000000</td>\n",
              "      <td>0.000000</td>\n",
              "      <td>0.000000</td>\n",
              "      <td>0</td>\n",
              "      <td>0.0</td>\n",
              "      <td>0.0</td>\n",
              "      <td>0.000000</td>\n",
              "      <td>0.000000</td>\n",
              "      <td>0.000000</td>\n",
              "      <td>0.00</td>\n",
              "      <td>0.0000</td>\n",
              "      <td>0.0000</td>\n",
              "      <td>0.0000</td>\n",
              "      <td>0.0000</td>\n",
              "      <td>0.0000</td>\n",
              "      <td>0.0000</td>\n",
              "      <td>0.0000</td>\n",
              "      <td>2014-01-05</td>\n",
              "      <td>1.0</td>\n",
              "      <td>4.0</td>\n",
              "      <td>0.2732</td>\n",
              "      <td>0.231</td>\n",
              "      <td>2.769</td>\n",
              "      <td>0.000</td>\n",
              "    </tr>\n",
              "    <tr>\n",
              "      <th>2014-01-06</th>\n",
              "      <td>56.180000</td>\n",
              "      <td>56.709999</td>\n",
              "      <td>55.930000</td>\n",
              "      <td>56.340000</td>\n",
              "      <td>56.340000</td>\n",
              "      <td>2028100</td>\n",
              "      <td>0.0</td>\n",
              "      <td>0.0</td>\n",
              "      <td>56.340000</td>\n",
              "      <td>57.419998</td>\n",
              "      <td>0.019169</td>\n",
              "      <td>0.22</td>\n",
              "      <td>0.1451</td>\n",
              "      <td>0.1956</td>\n",
              "      <td>0.1713</td>\n",
              "      <td>0.1072</td>\n",
              "      <td>0.0437</td>\n",
              "      <td>0.2361</td>\n",
              "      <td>-0.5785</td>\n",
              "      <td>2014-01-06</td>\n",
              "      <td>3.0</td>\n",
              "      <td>9.0</td>\n",
              "      <td>1.4242</td>\n",
              "      <td>0.922</td>\n",
              "      <td>3.016</td>\n",
              "      <td>0.062</td>\n",
              "    </tr>\n",
              "  </tbody>\n",
              "</table>\n",
              "</div>"
            ],
            "text/plain": [
              "                 Open       High        Low  ...  Positive  Neutral  Negative\n",
              "timeStamp                                    ...                             \n",
              "2014-01-02  55.950001  56.000000  55.389999  ...     1.203    3.797     0.000\n",
              "2014-01-03  55.900002  56.240002  55.450001  ...     0.624    5.233     0.143\n",
              "2014-01-04   0.000000   0.000000   0.000000  ...     0.628    3.372     0.000\n",
              "2014-01-05   0.000000   0.000000   0.000000  ...     0.231    2.769     0.000\n",
              "2014-01-06  56.180000  56.709999  55.930000  ...     0.922    3.016     0.062\n",
              "\n",
              "[5 rows x 26 columns]"
            ]
          },
          "metadata": {
            "tags": []
          },
          "execution_count": 78
        }
      ]
    }
  ]
}